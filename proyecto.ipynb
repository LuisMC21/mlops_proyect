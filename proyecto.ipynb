{
 "cells": [
  {
   "cell_type": "markdown",
   "metadata": {},
   "source": [
    "<h2>Descomprimiendo archivos</h2>"
   ]
  },
  {
   "cell_type": "code",
   "execution_count": 1,
   "metadata": {},
   "outputs": [
    {
     "name": "stdout",
     "output_type": "stream",
     "text": [
      "Archivo descomprimido guardado en: PI MLOps - STEAM\\users_items.json\n"
     ]
    }
   ],
   "source": [
    "import gzip\n",
    "import shutil\n",
    "import os\n",
    "\n",
    "archivo_comprimido = 'PI MLOps - STEAM\\\\users_items.json.gz'\n",
    "\n",
    "ruta_descomprimido = os.path.splitext(archivo_comprimido)[0]\n",
    "\n",
    "with gzip.open(archivo_comprimido, 'rb') as f_in:\n",
    "    with open(ruta_descomprimido, 'wb') as f_out:\n",
    "        shutil.copyfileobj(f_in, f_out)\n",
    "\n",
    "print(f'Archivo descomprimido guardado en: {ruta_descomprimido}')"
   ]
  },
  {
   "cell_type": "markdown",
   "metadata": {},
   "source": [
    "<h2>Función para leer archivos JSON</h2>"
   ]
  },
  {
   "cell_type": "code",
   "execution_count": 2,
   "metadata": {},
   "outputs": [],
   "source": [
    "import pandas as pd\n",
    "import os\n",
    "import ast\n",
    "\n",
    "def leerJSON(archivo_json):\n",
    "\n",
    "    datos = []\n",
    "\n",
    "    i = 0\n",
    "    try: \n",
    "        \n",
    "        with open(archivo_json, 'r',encoding='utf-8') as file:\n",
    "            try:\n",
    "                for line in file:\n",
    "                    i = i+1\n",
    "                    try:\n",
    "                        dato = ast.literal_eval(line.strip()) \n",
    "                        if dato:\n",
    "                            datos.append(dato)\n",
    "                    except:\n",
    "                        print(f\"Error al cargar JSON en la línea:\")\n",
    "\n",
    "                    if(i==1000):\n",
    "                        break\n",
    "            except UnicodeDecodeError as e :\n",
    "                print(e)\n",
    "            \n",
    "    except FileNotFoundError:\n",
    "        print(f\"El archivo {archivo_json} no fue encontrado.\")\n",
    "\n",
    "    df = pd.DataFrame(datos)\n",
    "\n",
    "    return df"
   ]
  },
  {
   "cell_type": "markdown",
   "metadata": {},
   "source": [
    "<h1>Leyendo archivos JSON users_reviews</h1>"
   ]
  },
  {
   "cell_type": "code",
   "execution_count": 3,
   "metadata": {},
   "outputs": [
    {
     "data": {
      "text/html": [
       "<div>\n",
       "<style scoped>\n",
       "    .dataframe tbody tr th:only-of-type {\n",
       "        vertical-align: middle;\n",
       "    }\n",
       "\n",
       "    .dataframe tbody tr th {\n",
       "        vertical-align: top;\n",
       "    }\n",
       "\n",
       "    .dataframe thead th {\n",
       "        text-align: right;\n",
       "    }\n",
       "</style>\n",
       "<table border=\"1\" class=\"dataframe\">\n",
       "  <thead>\n",
       "    <tr style=\"text-align: right;\">\n",
       "      <th></th>\n",
       "      <th>user_id</th>\n",
       "      <th>user_url</th>\n",
       "      <th>reviews</th>\n",
       "    </tr>\n",
       "  </thead>\n",
       "  <tbody>\n",
       "    <tr>\n",
       "      <th>0</th>\n",
       "      <td>76561197970982479</td>\n",
       "      <td>http://steamcommunity.com/profiles/76561197970...</td>\n",
       "      <td>[{'funny': '', 'posted': 'Posted November 5, 2...</td>\n",
       "    </tr>\n",
       "    <tr>\n",
       "      <th>1</th>\n",
       "      <td>js41637</td>\n",
       "      <td>http://steamcommunity.com/id/js41637</td>\n",
       "      <td>[{'funny': '', 'posted': 'Posted June 24, 2014...</td>\n",
       "    </tr>\n",
       "    <tr>\n",
       "      <th>2</th>\n",
       "      <td>evcentric</td>\n",
       "      <td>http://steamcommunity.com/id/evcentric</td>\n",
       "      <td>[{'funny': '', 'posted': 'Posted February 3.',...</td>\n",
       "    </tr>\n",
       "    <tr>\n",
       "      <th>3</th>\n",
       "      <td>doctr</td>\n",
       "      <td>http://steamcommunity.com/id/doctr</td>\n",
       "      <td>[{'funny': '', 'posted': 'Posted October 14, 2...</td>\n",
       "    </tr>\n",
       "    <tr>\n",
       "      <th>4</th>\n",
       "      <td>maplemage</td>\n",
       "      <td>http://steamcommunity.com/id/maplemage</td>\n",
       "      <td>[{'funny': '3 people found this review funny',...</td>\n",
       "    </tr>\n",
       "  </tbody>\n",
       "</table>\n",
       "</div>"
      ],
      "text/plain": [
       "             user_id                                           user_url   \n",
       "0  76561197970982479  http://steamcommunity.com/profiles/76561197970...  \\\n",
       "1            js41637               http://steamcommunity.com/id/js41637   \n",
       "2          evcentric             http://steamcommunity.com/id/evcentric   \n",
       "3              doctr                 http://steamcommunity.com/id/doctr   \n",
       "4          maplemage             http://steamcommunity.com/id/maplemage   \n",
       "\n",
       "                                             reviews  \n",
       "0  [{'funny': '', 'posted': 'Posted November 5, 2...  \n",
       "1  [{'funny': '', 'posted': 'Posted June 24, 2014...  \n",
       "2  [{'funny': '', 'posted': 'Posted February 3.',...  \n",
       "3  [{'funny': '', 'posted': 'Posted October 14, 2...  \n",
       "4  [{'funny': '3 people found this review funny',...  "
      ]
     },
     "execution_count": 3,
     "metadata": {},
     "output_type": "execute_result"
    }
   ],
   "source": [
    "archivo_json = \"PI MLOps - STEAM/user_reviews.json\"\n",
    "\n",
    "df_user_reviews = leerJSON(archivo_json)\n",
    "\n",
    "df_user_reviews.head(5)"
   ]
  },
  {
   "cell_type": "code",
   "execution_count": 4,
   "metadata": {},
   "outputs": [
    {
     "data": {
      "text/plain": [
       "user_id     0\n",
       "user_url    0\n",
       "reviews     0\n",
       "dtype: int64"
      ]
     },
     "execution_count": 4,
     "metadata": {},
     "output_type": "execute_result"
    }
   ],
   "source": [
    "df_user_reviews.isna().sum()"
   ]
  },
  {
   "cell_type": "code",
   "execution_count": 5,
   "metadata": {},
   "outputs": [
    {
     "data": {
      "text/plain": [
       "0      0\n",
       "1      0\n",
       "2      0\n",
       "3      0\n",
       "4      0\n",
       "      ..\n",
       "995    0\n",
       "996    0\n",
       "997    0\n",
       "998    0\n",
       "999    0\n",
       "Length: 1000, dtype: int64"
      ]
     },
     "execution_count": 5,
     "metadata": {},
     "output_type": "execute_result"
    }
   ],
   "source": [
    "df_user_reviews.isna().sum(axis=1)"
   ]
  },
  {
   "cell_type": "markdown",
   "metadata": {},
   "source": [
    "<h3>Explode User Reviews</h3>"
   ]
  },
  {
   "cell_type": "code",
   "execution_count": 6,
   "metadata": {},
   "outputs": [
    {
     "data": {
      "text/html": [
       "<div>\n",
       "<style scoped>\n",
       "    .dataframe tbody tr th:only-of-type {\n",
       "        vertical-align: middle;\n",
       "    }\n",
       "\n",
       "    .dataframe tbody tr th {\n",
       "        vertical-align: top;\n",
       "    }\n",
       "\n",
       "    .dataframe thead th {\n",
       "        text-align: right;\n",
       "    }\n",
       "</style>\n",
       "<table border=\"1\" class=\"dataframe\">\n",
       "  <thead>\n",
       "    <tr style=\"text-align: right;\">\n",
       "      <th></th>\n",
       "      <th>user_id</th>\n",
       "      <th>user_url</th>\n",
       "      <th>funny</th>\n",
       "      <th>posted</th>\n",
       "      <th>last_edited</th>\n",
       "      <th>item_id</th>\n",
       "      <th>helpful</th>\n",
       "      <th>recommend</th>\n",
       "      <th>review</th>\n",
       "    </tr>\n",
       "  </thead>\n",
       "  <tbody>\n",
       "    <tr>\n",
       "      <th>0</th>\n",
       "      <td>76561197970982479</td>\n",
       "      <td>http://steamcommunity.com/profiles/76561197970...</td>\n",
       "      <td></td>\n",
       "      <td>Posted November 5, 2011.</td>\n",
       "      <td></td>\n",
       "      <td>1250</td>\n",
       "      <td>No ratings yet</td>\n",
       "      <td>True</td>\n",
       "      <td>Simple yet with great replayability. In my opi...</td>\n",
       "    </tr>\n",
       "    <tr>\n",
       "      <th>1</th>\n",
       "      <td>76561197970982479</td>\n",
       "      <td>http://steamcommunity.com/profiles/76561197970...</td>\n",
       "      <td></td>\n",
       "      <td>Posted July 15, 2011.</td>\n",
       "      <td></td>\n",
       "      <td>22200</td>\n",
       "      <td>No ratings yet</td>\n",
       "      <td>True</td>\n",
       "      <td>It's unique and worth a playthrough.</td>\n",
       "    </tr>\n",
       "  </tbody>\n",
       "</table>\n",
       "</div>"
      ],
      "text/plain": [
       "             user_id                                           user_url funny   \n",
       "0  76561197970982479  http://steamcommunity.com/profiles/76561197970...        \\\n",
       "1  76561197970982479  http://steamcommunity.com/profiles/76561197970...         \n",
       "\n",
       "                     posted last_edited item_id         helpful recommend   \n",
       "0  Posted November 5, 2011.                1250  No ratings yet      True  \\\n",
       "1     Posted July 15, 2011.               22200  No ratings yet      True   \n",
       "\n",
       "                                              review  \n",
       "0  Simple yet with great replayability. In my opi...  \n",
       "1               It's unique and worth a playthrough.  "
      ]
     },
     "execution_count": 6,
     "metadata": {},
     "output_type": "execute_result"
    }
   ],
   "source": [
    "# Usar la función explode para descomponer la lista de revisiones en filas separadas\n",
    "df_user_reviews_explode = df_user_reviews.explode('reviews')\n",
    "\n",
    "# Resetear el índice del DataFrame\n",
    "df_user_reviews_explode.reset_index(drop=True, inplace=True)\n",
    "\n",
    "# Utilizar pd.json_normalize para crear columnas para cada clave en los diccionarios\n",
    "df_user_reviews_explode = pd.concat([df_user_reviews_explode, pd.json_normalize(df_user_reviews_explode['reviews'])], axis=1)\n",
    "\n",
    "# Eliminar la columna 'reviews' original\n",
    "df_user_reviews_explode.drop(columns=['reviews'], inplace=True)\n",
    "\n",
    "# Imprimir el DataFrame resultante\n",
    "df_user_reviews_explode.head(2)"
   ]
  },
  {
   "cell_type": "markdown",
   "metadata": {},
   "source": [
    "<h3>Seleccionar fecha de \"posted\" y crear columna fecha</h3>"
   ]
  },
  {
   "cell_type": "code",
   "execution_count": 7,
   "metadata": {},
   "outputs": [],
   "source": [
    "df_user_reviews_explode['posted'] = df_user_reviews_explode['posted'].astype(str)\n",
    "df_user_reviews_explode['fecha'] = df_user_reviews_explode['posted'].apply(lambda x: x[7:])"
   ]
  },
  {
   "cell_type": "code",
   "execution_count": 8,
   "metadata": {},
   "outputs": [
    {
     "data": {
      "text/html": [
       "<div>\n",
       "<style scoped>\n",
       "    .dataframe tbody tr th:only-of-type {\n",
       "        vertical-align: middle;\n",
       "    }\n",
       "\n",
       "    .dataframe tbody tr th {\n",
       "        vertical-align: top;\n",
       "    }\n",
       "\n",
       "    .dataframe thead th {\n",
       "        text-align: right;\n",
       "    }\n",
       "</style>\n",
       "<table border=\"1\" class=\"dataframe\">\n",
       "  <thead>\n",
       "    <tr style=\"text-align: right;\">\n",
       "      <th></th>\n",
       "      <th>user_id</th>\n",
       "      <th>user_url</th>\n",
       "      <th>funny</th>\n",
       "      <th>posted</th>\n",
       "      <th>last_edited</th>\n",
       "      <th>item_id</th>\n",
       "      <th>helpful</th>\n",
       "      <th>recommend</th>\n",
       "      <th>review</th>\n",
       "      <th>fecha</th>\n",
       "    </tr>\n",
       "  </thead>\n",
       "  <tbody>\n",
       "    <tr>\n",
       "      <th>0</th>\n",
       "      <td>76561197970982479</td>\n",
       "      <td>http://steamcommunity.com/profiles/76561197970...</td>\n",
       "      <td></td>\n",
       "      <td>Posted November 5, 2011.</td>\n",
       "      <td></td>\n",
       "      <td>1250</td>\n",
       "      <td>No ratings yet</td>\n",
       "      <td>True</td>\n",
       "      <td>Simple yet with great replayability. In my opi...</td>\n",
       "      <td>November 5, 2011.</td>\n",
       "    </tr>\n",
       "    <tr>\n",
       "      <th>1</th>\n",
       "      <td>76561197970982479</td>\n",
       "      <td>http://steamcommunity.com/profiles/76561197970...</td>\n",
       "      <td></td>\n",
       "      <td>Posted July 15, 2011.</td>\n",
       "      <td></td>\n",
       "      <td>22200</td>\n",
       "      <td>No ratings yet</td>\n",
       "      <td>True</td>\n",
       "      <td>It's unique and worth a playthrough.</td>\n",
       "      <td>July 15, 2011.</td>\n",
       "    </tr>\n",
       "  </tbody>\n",
       "</table>\n",
       "</div>"
      ],
      "text/plain": [
       "             user_id                                           user_url funny   \n",
       "0  76561197970982479  http://steamcommunity.com/profiles/76561197970...        \\\n",
       "1  76561197970982479  http://steamcommunity.com/profiles/76561197970...         \n",
       "\n",
       "                     posted last_edited item_id         helpful recommend   \n",
       "0  Posted November 5, 2011.                1250  No ratings yet      True  \\\n",
       "1     Posted July 15, 2011.               22200  No ratings yet      True   \n",
       "\n",
       "                                              review              fecha  \n",
       "0  Simple yet with great replayability. In my opi...  November 5, 2011.  \n",
       "1               It's unique and worth a playthrough.     July 15, 2011.  "
      ]
     },
     "execution_count": 8,
     "metadata": {},
     "output_type": "execute_result"
    }
   ],
   "source": [
    "df_user_reviews_explode.head(2)"
   ]
  },
  {
   "cell_type": "markdown",
   "metadata": {},
   "source": [
    "<h3>Cambiar el formato de \"Fecha\" y eliminar columna \"posted\"</h3>"
   ]
  },
  {
   "cell_type": "code",
   "execution_count": 9,
   "metadata": {},
   "outputs": [
    {
     "data": {
      "text/html": [
       "<div>\n",
       "<style scoped>\n",
       "    .dataframe tbody tr th:only-of-type {\n",
       "        vertical-align: middle;\n",
       "    }\n",
       "\n",
       "    .dataframe tbody tr th {\n",
       "        vertical-align: top;\n",
       "    }\n",
       "\n",
       "    .dataframe thead th {\n",
       "        text-align: right;\n",
       "    }\n",
       "</style>\n",
       "<table border=\"1\" class=\"dataframe\">\n",
       "  <thead>\n",
       "    <tr style=\"text-align: right;\">\n",
       "      <th></th>\n",
       "      <th>user_id</th>\n",
       "      <th>user_url</th>\n",
       "      <th>last_edited</th>\n",
       "      <th>item_id</th>\n",
       "      <th>helpful</th>\n",
       "      <th>recommend</th>\n",
       "      <th>review</th>\n",
       "      <th>fecha</th>\n",
       "    </tr>\n",
       "  </thead>\n",
       "  <tbody>\n",
       "    <tr>\n",
       "      <th>0</th>\n",
       "      <td>76561197970982479</td>\n",
       "      <td>http://steamcommunity.com/profiles/76561197970...</td>\n",
       "      <td></td>\n",
       "      <td>1250</td>\n",
       "      <td>No ratings yet</td>\n",
       "      <td>True</td>\n",
       "      <td>Simple yet with great replayability. In my opi...</td>\n",
       "      <td>2011-11-05</td>\n",
       "    </tr>\n",
       "    <tr>\n",
       "      <th>1</th>\n",
       "      <td>76561197970982479</td>\n",
       "      <td>http://steamcommunity.com/profiles/76561197970...</td>\n",
       "      <td></td>\n",
       "      <td>22200</td>\n",
       "      <td>No ratings yet</td>\n",
       "      <td>True</td>\n",
       "      <td>It's unique and worth a playthrough.</td>\n",
       "      <td>2011-07-15</td>\n",
       "    </tr>\n",
       "  </tbody>\n",
       "</table>\n",
       "</div>"
      ],
      "text/plain": [
       "             user_id                                           user_url   \n",
       "0  76561197970982479  http://steamcommunity.com/profiles/76561197970...  \\\n",
       "1  76561197970982479  http://steamcommunity.com/profiles/76561197970...   \n",
       "\n",
       "  last_edited item_id         helpful recommend   \n",
       "0                1250  No ratings yet      True  \\\n",
       "1               22200  No ratings yet      True   \n",
       "\n",
       "                                              review      fecha  \n",
       "0  Simple yet with great replayability. In my opi... 2011-11-05  \n",
       "1               It's unique and worth a playthrough. 2011-07-15  "
      ]
     },
     "execution_count": 9,
     "metadata": {},
     "output_type": "execute_result"
    }
   ],
   "source": [
    "df_user_reviews_explode['fecha'] = df_user_reviews_explode['fecha'].str.rstrip('.')\n",
    "df_user_reviews_explode['fecha'] = pd.to_datetime(df_user_reviews_explode['fecha'], errors='coerce', format='%B %d, %Y')\n",
    "df_user_reviews_explode = df_user_reviews_explode.dropna(subset=['fecha'])\n",
    "df_user_reviews_final = df_user_reviews_explode.drop(columns=['posted', 'funny'])\n",
    "df_user_reviews_final.head(2)\n",
    "\n"
   ]
  },
  {
   "cell_type": "code",
   "execution_count": 10,
   "metadata": {},
   "outputs": [
    {
     "name": "stdout",
     "output_type": "stream",
     "text": [
      "<class 'pandas.core.frame.DataFrame'>\n",
      "Index: 1928 entries, 0 to 2453\n",
      "Data columns (total 10 columns):\n",
      " #   Column       Non-Null Count  Dtype         \n",
      "---  ------       --------------  -----         \n",
      " 0   user_id      1928 non-null   object        \n",
      " 1   user_url     1928 non-null   object        \n",
      " 2   funny        1928 non-null   object        \n",
      " 3   posted       1928 non-null   object        \n",
      " 4   last_edited  1928 non-null   object        \n",
      " 5   item_id      1928 non-null   object        \n",
      " 6   helpful      1928 non-null   object        \n",
      " 7   recommend    1928 non-null   object        \n",
      " 8   review       1928 non-null   object        \n",
      " 9   fecha        1928 non-null   datetime64[ns]\n",
      "dtypes: datetime64[ns](1), object(9)\n",
      "memory usage: 165.7+ KB\n"
     ]
    }
   ],
   "source": [
    "df_user_reviews_explode.info()"
   ]
  },
  {
   "cell_type": "markdown",
   "metadata": {},
   "source": [
    "<h3>Guardando dataframe en archivo csv</h3>"
   ]
  },
  {
   "cell_type": "code",
   "execution_count": 11,
   "metadata": {},
   "outputs": [],
   "source": [
    "df_user_reviews_final.to_csv(\"df_user_reviews_final.csv\")"
   ]
  },
  {
   "cell_type": "markdown",
   "metadata": {},
   "source": [
    "<h1>Leyendo archivo JSON users_items</h1>"
   ]
  },
  {
   "cell_type": "code",
   "execution_count": 12,
   "metadata": {},
   "outputs": [
    {
     "data": {
      "text/html": [
       "<div>\n",
       "<style scoped>\n",
       "    .dataframe tbody tr th:only-of-type {\n",
       "        vertical-align: middle;\n",
       "    }\n",
       "\n",
       "    .dataframe tbody tr th {\n",
       "        vertical-align: top;\n",
       "    }\n",
       "\n",
       "    .dataframe thead th {\n",
       "        text-align: right;\n",
       "    }\n",
       "</style>\n",
       "<table border=\"1\" class=\"dataframe\">\n",
       "  <thead>\n",
       "    <tr style=\"text-align: right;\">\n",
       "      <th></th>\n",
       "      <th>user_id</th>\n",
       "      <th>items_count</th>\n",
       "      <th>steam_id</th>\n",
       "      <th>user_url</th>\n",
       "      <th>items</th>\n",
       "    </tr>\n",
       "  </thead>\n",
       "  <tbody>\n",
       "    <tr>\n",
       "      <th>0</th>\n",
       "      <td>76561197970982479</td>\n",
       "      <td>277</td>\n",
       "      <td>76561197970982479</td>\n",
       "      <td>http://steamcommunity.com/profiles/76561197970...</td>\n",
       "      <td>[{'item_id': '10', 'item_name': 'Counter-Strik...</td>\n",
       "    </tr>\n",
       "    <tr>\n",
       "      <th>1</th>\n",
       "      <td>js41637</td>\n",
       "      <td>888</td>\n",
       "      <td>76561198035864385</td>\n",
       "      <td>http://steamcommunity.com/id/js41637</td>\n",
       "      <td>[{'item_id': '10', 'item_name': 'Counter-Strik...</td>\n",
       "    </tr>\n",
       "  </tbody>\n",
       "</table>\n",
       "</div>"
      ],
      "text/plain": [
       "             user_id  items_count           steam_id   \n",
       "0  76561197970982479          277  76561197970982479  \\\n",
       "1            js41637          888  76561198035864385   \n",
       "\n",
       "                                            user_url   \n",
       "0  http://steamcommunity.com/profiles/76561197970...  \\\n",
       "1               http://steamcommunity.com/id/js41637   \n",
       "\n",
       "                                               items  \n",
       "0  [{'item_id': '10', 'item_name': 'Counter-Strik...  \n",
       "1  [{'item_id': '10', 'item_name': 'Counter-Strik...  "
      ]
     },
     "execution_count": 12,
     "metadata": {},
     "output_type": "execute_result"
    }
   ],
   "source": [
    "archivo_json = \"PI MLOps - STEAM/users_items.json\"\n",
    "\n",
    "df_user_items = leerJSON(archivo_json)\n",
    "\n",
    "df_user_items.head(2)"
   ]
  },
  {
   "cell_type": "code",
   "execution_count": 13,
   "metadata": {},
   "outputs": [
    {
     "name": "stdout",
     "output_type": "stream",
     "text": [
      "<class 'pandas.core.frame.DataFrame'>\n",
      "RangeIndex: 1000 entries, 0 to 999\n",
      "Data columns (total 5 columns):\n",
      " #   Column       Non-Null Count  Dtype \n",
      "---  ------       --------------  ----- \n",
      " 0   user_id      1000 non-null   object\n",
      " 1   items_count  1000 non-null   int64 \n",
      " 2   steam_id     1000 non-null   object\n",
      " 3   user_url     1000 non-null   object\n",
      " 4   items        1000 non-null   object\n",
      "dtypes: int64(1), object(4)\n",
      "memory usage: 39.2+ KB\n"
     ]
    }
   ],
   "source": [
    "df_user_items.info()"
   ]
  },
  {
   "cell_type": "markdown",
   "metadata": {},
   "source": [
    "<h3>Explode User items</h3>"
   ]
  },
  {
   "cell_type": "code",
   "execution_count": 14,
   "metadata": {},
   "outputs": [
    {
     "data": {
      "text/html": [
       "<div>\n",
       "<style scoped>\n",
       "    .dataframe tbody tr th:only-of-type {\n",
       "        vertical-align: middle;\n",
       "    }\n",
       "\n",
       "    .dataframe tbody tr th {\n",
       "        vertical-align: top;\n",
       "    }\n",
       "\n",
       "    .dataframe thead th {\n",
       "        text-align: right;\n",
       "    }\n",
       "</style>\n",
       "<table border=\"1\" class=\"dataframe\">\n",
       "  <thead>\n",
       "    <tr style=\"text-align: right;\">\n",
       "      <th></th>\n",
       "      <th>user_id</th>\n",
       "      <th>items_count</th>\n",
       "      <th>steam_id</th>\n",
       "      <th>user_url</th>\n",
       "      <th>item_id</th>\n",
       "      <th>item_name</th>\n",
       "      <th>playtime_forever</th>\n",
       "      <th>playtime_2weeks</th>\n",
       "    </tr>\n",
       "  </thead>\n",
       "  <tbody>\n",
       "    <tr>\n",
       "      <th>0</th>\n",
       "      <td>76561197970982479</td>\n",
       "      <td>277</td>\n",
       "      <td>76561197970982479</td>\n",
       "      <td>http://steamcommunity.com/profiles/76561197970...</td>\n",
       "      <td>10</td>\n",
       "      <td>Counter-Strike</td>\n",
       "      <td>6.0</td>\n",
       "      <td>0.0</td>\n",
       "    </tr>\n",
       "    <tr>\n",
       "      <th>1</th>\n",
       "      <td>76561197970982479</td>\n",
       "      <td>277</td>\n",
       "      <td>76561197970982479</td>\n",
       "      <td>http://steamcommunity.com/profiles/76561197970...</td>\n",
       "      <td>20</td>\n",
       "      <td>Team Fortress Classic</td>\n",
       "      <td>0.0</td>\n",
       "      <td>0.0</td>\n",
       "    </tr>\n",
       "  </tbody>\n",
       "</table>\n",
       "</div>"
      ],
      "text/plain": [
       "             user_id  items_count           steam_id   \n",
       "0  76561197970982479          277  76561197970982479  \\\n",
       "1  76561197970982479          277  76561197970982479   \n",
       "\n",
       "                                            user_url item_id   \n",
       "0  http://steamcommunity.com/profiles/76561197970...      10  \\\n",
       "1  http://steamcommunity.com/profiles/76561197970...      20   \n",
       "\n",
       "               item_name  playtime_forever  playtime_2weeks  \n",
       "0         Counter-Strike               6.0              0.0  \n",
       "1  Team Fortress Classic               0.0              0.0  "
      ]
     },
     "execution_count": 14,
     "metadata": {},
     "output_type": "execute_result"
    }
   ],
   "source": [
    "#Descompone la lista en filas separadas\n",
    "df_user_items_explode = df_user_items.explode('items')\n",
    "\n",
    "#Resetear índece del dataframe\n",
    "df_user_items_explode.reset_index(drop=True, inplace=True)\n",
    "\n",
    "#Creamos las nuevas columnas para cada clave\n",
    "df_user_items_explode = pd.concat([df_user_items_explode, pd.json_normalize(df_user_items_explode['items'])], axis=1)\n",
    "\n",
    "#Eliminamos 'reviews' original\n",
    "df_user_items_explode.drop(columns=['items'], inplace=True)\n",
    "\n",
    "df_user_items_explode.head(2)\n"
   ]
  },
  {
   "cell_type": "code",
   "execution_count": 15,
   "metadata": {},
   "outputs": [
    {
     "name": "stdout",
     "output_type": "stream",
     "text": [
      "<class 'pandas.core.frame.DataFrame'>\n",
      "RangeIndex: 89415 entries, 0 to 89414\n",
      "Data columns (total 8 columns):\n",
      " #   Column            Non-Null Count  Dtype  \n",
      "---  ------            --------------  -----  \n",
      " 0   user_id           89415 non-null  object \n",
      " 1   items_count       89415 non-null  int64  \n",
      " 2   steam_id          89415 non-null  object \n",
      " 3   user_url          89415 non-null  object \n",
      " 4   item_id           89280 non-null  object \n",
      " 5   item_name         89280 non-null  object \n",
      " 6   playtime_forever  89280 non-null  float64\n",
      " 7   playtime_2weeks   89280 non-null  float64\n",
      "dtypes: float64(2), int64(1), object(5)\n",
      "memory usage: 5.5+ MB\n"
     ]
    }
   ],
   "source": [
    "df_user_items_explode.info()"
   ]
  },
  {
   "cell_type": "markdown",
   "metadata": {},
   "source": [
    "<h3>Eliminamos columnas con valores nulos</h3>"
   ]
  },
  {
   "cell_type": "code",
   "execution_count": 16,
   "metadata": {},
   "outputs": [],
   "source": [
    "df_user_items_final = df_user_items_explode.dropna(subset=['item_id','playtime_forever'])"
   ]
  },
  {
   "cell_type": "code",
   "execution_count": 17,
   "metadata": {},
   "outputs": [],
   "source": [
    "df_user_items_final.to_csv('df_user_items_final.csv')"
   ]
  },
  {
   "cell_type": "markdown",
   "metadata": {},
   "source": [
    "<h1>Leyendo archivo JSON Steam Games</h1>"
   ]
  },
  {
   "cell_type": "code",
   "execution_count": 18,
   "metadata": {},
   "outputs": [],
   "source": [
    "import pandas as pd\n",
    "import json\n",
    "\n",
    "data = []\n",
    "with open('PI MLOps - STEAM/steam_games.json', 'r') as file:\n",
    "    for line in file:\n",
    "        data.append(json.loads(line))\n",
    "\n",
    "df_steam_games = pd.DataFrame(data)\n"
   ]
  },
  {
   "cell_type": "code",
   "execution_count": 19,
   "metadata": {},
   "outputs": [
    {
     "data": {
      "text/html": [
       "<div>\n",
       "<style scoped>\n",
       "    .dataframe tbody tr th:only-of-type {\n",
       "        vertical-align: middle;\n",
       "    }\n",
       "\n",
       "    .dataframe tbody tr th {\n",
       "        vertical-align: top;\n",
       "    }\n",
       "\n",
       "    .dataframe thead th {\n",
       "        text-align: right;\n",
       "    }\n",
       "</style>\n",
       "<table border=\"1\" class=\"dataframe\">\n",
       "  <thead>\n",
       "    <tr style=\"text-align: right;\">\n",
       "      <th></th>\n",
       "      <th>publisher</th>\n",
       "      <th>genres</th>\n",
       "      <th>app_name</th>\n",
       "      <th>title</th>\n",
       "      <th>url</th>\n",
       "      <th>release_date</th>\n",
       "      <th>tags</th>\n",
       "      <th>reviews_url</th>\n",
       "      <th>discount_price</th>\n",
       "      <th>specs</th>\n",
       "      <th>price</th>\n",
       "      <th>early_access</th>\n",
       "      <th>id</th>\n",
       "      <th>metascore</th>\n",
       "      <th>developer</th>\n",
       "      <th>user_id</th>\n",
       "      <th>steam_id</th>\n",
       "      <th>items</th>\n",
       "      <th>items_count</th>\n",
       "    </tr>\n",
       "  </thead>\n",
       "  <tbody>\n",
       "    <tr>\n",
       "      <th>0</th>\n",
       "      <td>NaN</td>\n",
       "      <td>NaN</td>\n",
       "      <td>NaN</td>\n",
       "      <td>NaN</td>\n",
       "      <td>NaN</td>\n",
       "      <td>NaN</td>\n",
       "      <td>NaN</td>\n",
       "      <td>NaN</td>\n",
       "      <td>NaN</td>\n",
       "      <td>NaN</td>\n",
       "      <td>NaN</td>\n",
       "      <td>NaN</td>\n",
       "      <td>NaN</td>\n",
       "      <td>NaN</td>\n",
       "      <td>NaN</td>\n",
       "      <td>76561197970982479</td>\n",
       "      <td>76561197970982479</td>\n",
       "      <td>[{'item_id': '10', 'item_name': 'Counter-Strik...</td>\n",
       "      <td>277.0</td>\n",
       "    </tr>\n",
       "    <tr>\n",
       "      <th>1</th>\n",
       "      <td>NaN</td>\n",
       "      <td>NaN</td>\n",
       "      <td>NaN</td>\n",
       "      <td>NaN</td>\n",
       "      <td>NaN</td>\n",
       "      <td>NaN</td>\n",
       "      <td>NaN</td>\n",
       "      <td>NaN</td>\n",
       "      <td>NaN</td>\n",
       "      <td>NaN</td>\n",
       "      <td>NaN</td>\n",
       "      <td>NaN</td>\n",
       "      <td>NaN</td>\n",
       "      <td>NaN</td>\n",
       "      <td>NaN</td>\n",
       "      <td>js41637</td>\n",
       "      <td>76561198035864385</td>\n",
       "      <td>[{'item_id': '10', 'item_name': 'Counter-Strik...</td>\n",
       "      <td>888.0</td>\n",
       "    </tr>\n",
       "    <tr>\n",
       "      <th>2</th>\n",
       "      <td>NaN</td>\n",
       "      <td>NaN</td>\n",
       "      <td>NaN</td>\n",
       "      <td>NaN</td>\n",
       "      <td>NaN</td>\n",
       "      <td>NaN</td>\n",
       "      <td>NaN</td>\n",
       "      <td>NaN</td>\n",
       "      <td>NaN</td>\n",
       "      <td>NaN</td>\n",
       "      <td>NaN</td>\n",
       "      <td>NaN</td>\n",
       "      <td>NaN</td>\n",
       "      <td>NaN</td>\n",
       "      <td>NaN</td>\n",
       "      <td>evcentric</td>\n",
       "      <td>76561198007712555</td>\n",
       "      <td>[{'item_id': '1200', 'item_name': 'Red Orchest...</td>\n",
       "      <td>137.0</td>\n",
       "    </tr>\n",
       "  </tbody>\n",
       "</table>\n",
       "</div>"
      ],
      "text/plain": [
       "  publisher genres app_name title  url release_date tags reviews_url   \n",
       "0       NaN    NaN      NaN   NaN  NaN          NaN  NaN         NaN  \\\n",
       "1       NaN    NaN      NaN   NaN  NaN          NaN  NaN         NaN   \n",
       "2       NaN    NaN      NaN   NaN  NaN          NaN  NaN         NaN   \n",
       "\n",
       "   discount_price specs price early_access   id metascore developer   \n",
       "0             NaN   NaN   NaN          NaN  NaN       NaN       NaN  \\\n",
       "1             NaN   NaN   NaN          NaN  NaN       NaN       NaN   \n",
       "2             NaN   NaN   NaN          NaN  NaN       NaN       NaN   \n",
       "\n",
       "             user_id           steam_id   \n",
       "0  76561197970982479  76561197970982479  \\\n",
       "1            js41637  76561198035864385   \n",
       "2          evcentric  76561198007712555   \n",
       "\n",
       "                                               items  items_count  \n",
       "0  [{'item_id': '10', 'item_name': 'Counter-Strik...        277.0  \n",
       "1  [{'item_id': '10', 'item_name': 'Counter-Strik...        888.0  \n",
       "2  [{'item_id': '1200', 'item_name': 'Red Orchest...        137.0  "
      ]
     },
     "execution_count": 19,
     "metadata": {},
     "output_type": "execute_result"
    }
   ],
   "source": [
    "df_steam_games.head(3)"
   ]
  },
  {
   "cell_type": "code",
   "execution_count": 20,
   "metadata": {},
   "outputs": [
    {
     "name": "stdout",
     "output_type": "stream",
     "text": [
      "<class 'pandas.core.frame.DataFrame'>\n",
      "RangeIndex: 120445 entries, 0 to 120444\n",
      "Data columns (total 19 columns):\n",
      " #   Column          Non-Null Count  Dtype  \n",
      "---  ------          --------------  -----  \n",
      " 0   publisher       24083 non-null  object \n",
      " 1   genres          28852 non-null  object \n",
      " 2   app_name        32133 non-null  object \n",
      " 3   title           30085 non-null  object \n",
      " 4   url             32135 non-null  object \n",
      " 5   release_date    30068 non-null  object \n",
      " 6   tags            31972 non-null  object \n",
      " 7   reviews_url     32133 non-null  object \n",
      " 8   discount_price  225 non-null    float64\n",
      " 9   specs           31465 non-null  object \n",
      " 10  price           30758 non-null  object \n",
      " 11  early_access    32135 non-null  object \n",
      " 12  id              32133 non-null  object \n",
      " 13  metascore       2677 non-null   object \n",
      " 14  developer       28836 non-null  object \n",
      " 15  user_id         88310 non-null  object \n",
      " 16  steam_id        88310 non-null  object \n",
      " 17  items           88310 non-null  object \n",
      " 18  items_count     88310 non-null  float64\n",
      "dtypes: float64(2), object(17)\n",
      "memory usage: 17.5+ MB\n"
     ]
    }
   ],
   "source": [
    "df_steam_games.info()"
   ]
  },
  {
   "cell_type": "markdown",
   "metadata": {},
   "source": [
    "<h4>Eliminando columnas</h4>"
   ]
  },
  {
   "cell_type": "code",
   "execution_count": 21,
   "metadata": {},
   "outputs": [
    {
     "data": {
      "text/html": [
       "<div>\n",
       "<style scoped>\n",
       "    .dataframe tbody tr th:only-of-type {\n",
       "        vertical-align: middle;\n",
       "    }\n",
       "\n",
       "    .dataframe tbody tr th {\n",
       "        vertical-align: top;\n",
       "    }\n",
       "\n",
       "    .dataframe thead th {\n",
       "        text-align: right;\n",
       "    }\n",
       "</style>\n",
       "<table border=\"1\" class=\"dataframe\">\n",
       "  <thead>\n",
       "    <tr style=\"text-align: right;\">\n",
       "      <th></th>\n",
       "      <th>publisher</th>\n",
       "      <th>genres</th>\n",
       "      <th>app_name</th>\n",
       "      <th>title</th>\n",
       "      <th>url</th>\n",
       "      <th>release_date</th>\n",
       "      <th>tags</th>\n",
       "      <th>reviews_url</th>\n",
       "      <th>discount_price</th>\n",
       "      <th>specs</th>\n",
       "      <th>price</th>\n",
       "      <th>early_access</th>\n",
       "      <th>id</th>\n",
       "      <th>metascore</th>\n",
       "      <th>developer</th>\n",
       "    </tr>\n",
       "  </thead>\n",
       "  <tbody>\n",
       "    <tr>\n",
       "      <th>0</th>\n",
       "      <td>NaN</td>\n",
       "      <td>NaN</td>\n",
       "      <td>NaN</td>\n",
       "      <td>NaN</td>\n",
       "      <td>NaN</td>\n",
       "      <td>NaN</td>\n",
       "      <td>NaN</td>\n",
       "      <td>NaN</td>\n",
       "      <td>NaN</td>\n",
       "      <td>NaN</td>\n",
       "      <td>NaN</td>\n",
       "      <td>NaN</td>\n",
       "      <td>NaN</td>\n",
       "      <td>NaN</td>\n",
       "      <td>NaN</td>\n",
       "    </tr>\n",
       "    <tr>\n",
       "      <th>1</th>\n",
       "      <td>NaN</td>\n",
       "      <td>NaN</td>\n",
       "      <td>NaN</td>\n",
       "      <td>NaN</td>\n",
       "      <td>NaN</td>\n",
       "      <td>NaN</td>\n",
       "      <td>NaN</td>\n",
       "      <td>NaN</td>\n",
       "      <td>NaN</td>\n",
       "      <td>NaN</td>\n",
       "      <td>NaN</td>\n",
       "      <td>NaN</td>\n",
       "      <td>NaN</td>\n",
       "      <td>NaN</td>\n",
       "      <td>NaN</td>\n",
       "    </tr>\n",
       "  </tbody>\n",
       "</table>\n",
       "</div>"
      ],
      "text/plain": [
       "  publisher genres app_name title  url release_date tags reviews_url   \n",
       "0       NaN    NaN      NaN   NaN  NaN          NaN  NaN         NaN  \\\n",
       "1       NaN    NaN      NaN   NaN  NaN          NaN  NaN         NaN   \n",
       "\n",
       "   discount_price specs price early_access   id metascore developer  \n",
       "0             NaN   NaN   NaN          NaN  NaN       NaN       NaN  \n",
       "1             NaN   NaN   NaN          NaN  NaN       NaN       NaN  "
      ]
     },
     "execution_count": 21,
     "metadata": {},
     "output_type": "execute_result"
    }
   ],
   "source": [
    "drop_columnas = ['user_id', 'steam_id', 'items', 'items_count']\n",
    "df_steam_games.drop(drop_columnas, axis=1, inplace=True)\n",
    "df_steam_games.head(2)"
   ]
  },
  {
   "cell_type": "markdown",
   "metadata": {},
   "source": [
    "<h4>Verificar cuántas filas tienen toda las columnas nulas</h4>"
   ]
  },
  {
   "cell_type": "code",
   "execution_count": 22,
   "metadata": {},
   "outputs": [
    {
     "data": {
      "text/plain": [
       "88310"
      ]
     },
     "execution_count": 22,
     "metadata": {},
     "output_type": "execute_result"
    }
   ],
   "source": [
    "nulos_por_fila = df_steam_games.isna().sum(axis=1)\n",
    "\n",
    "# Contar las filas que tienen exactamente 10 valores nulos\n",
    "cantidad_filas = (nulos_por_fila > 14).sum()\n",
    "\n",
    "cantidad_filas"
   ]
  },
  {
   "cell_type": "markdown",
   "metadata": {},
   "source": [
    "<h4>Eliminando filas con todos las columnas con valores nulos</h4>"
   ]
  },
  {
   "cell_type": "code",
   "execution_count": 23,
   "metadata": {},
   "outputs": [],
   "source": [
    "df_steam_games.dropna(how='all', inplace=True)"
   ]
  },
  {
   "cell_type": "code",
   "execution_count": 24,
   "metadata": {},
   "outputs": [
    {
     "name": "stdout",
     "output_type": "stream",
     "text": [
      "<class 'pandas.core.frame.DataFrame'>\n",
      "Index: 32135 entries, 88310 to 120444\n",
      "Data columns (total 15 columns):\n",
      " #   Column          Non-Null Count  Dtype  \n",
      "---  ------          --------------  -----  \n",
      " 0   publisher       24083 non-null  object \n",
      " 1   genres          28852 non-null  object \n",
      " 2   app_name        32133 non-null  object \n",
      " 3   title           30085 non-null  object \n",
      " 4   url             32135 non-null  object \n",
      " 5   release_date    30068 non-null  object \n",
      " 6   tags            31972 non-null  object \n",
      " 7   reviews_url     32133 non-null  object \n",
      " 8   discount_price  225 non-null    float64\n",
      " 9   specs           31465 non-null  object \n",
      " 10  price           30758 non-null  object \n",
      " 11  early_access    32135 non-null  object \n",
      " 12  id              32133 non-null  object \n",
      " 13  metascore       2677 non-null   object \n",
      " 14  developer       28836 non-null  object \n",
      "dtypes: float64(1), object(14)\n",
      "memory usage: 3.9+ MB\n"
     ]
    }
   ],
   "source": [
    "df_steam_games.info()"
   ]
  },
  {
   "cell_type": "markdown",
   "metadata": {},
   "source": [
    "<h4>Verificando duplicados</h4>"
   ]
  },
  {
   "cell_type": "code",
   "execution_count": 25,
   "metadata": {},
   "outputs": [
    {
     "data": {
      "text/plain": [
       "30055"
      ]
     },
     "execution_count": 25,
     "metadata": {},
     "output_type": "execute_result"
    }
   ],
   "source": [
    "df_steam_games['title'].unique().size"
   ]
  },
  {
   "cell_type": "markdown",
   "metadata": {},
   "source": [
    "<h4>Items con \"title\" duplicados</h4>"
   ]
  },
  {
   "cell_type": "code",
   "execution_count": 26,
   "metadata": {},
   "outputs": [
    {
     "name": "stdout",
     "output_type": "stream",
     "text": [
      "'title': Soundtrack, Cantidad de repeticiones: 3\n",
      "'title': Black Rose, Cantidad de repeticiones: 2\n",
      "'title': MORE SWEATER? OK!, Cantidad de repeticiones: 2\n",
      "'title': Total Extreme Wrestling, Cantidad de repeticiones: 2\n",
      "'title': The Dream Machine: Chapter 4, Cantidad de repeticiones: 2\n",
      "'title': New York Bus Simulator, Cantidad de repeticiones: 2\n",
      "'title': Prism, Cantidad de repeticiones: 2\n",
      "'title': Invasion, Cantidad de repeticiones: 2\n",
      "'title': Batman: Arkham City - Game of the Year Edition, Cantidad de repeticiones: 2\n",
      "'title': Warhammer Quest, Cantidad de repeticiones: 2\n",
      "'title': Parasite, Cantidad de repeticiones: 2\n",
      "'title': Castles, Cantidad de repeticiones: 2\n",
      "'title': Goro, Cantidad de repeticiones: 2\n",
      "'title': Borealis, Cantidad de repeticiones: 2\n",
      "'title': Alter Ego, Cantidad de repeticiones: 2\n",
      "'title': Altitude, Cantidad de repeticiones: 2\n",
      "'title': Invisible Apartment Zero, Cantidad de repeticiones: 2\n",
      "'title': Hero, Cantidad de repeticiones: 2\n",
      "'title': Aliens: Colonial Marines - Reconnaissance Pack, Cantidad de repeticiones: 2\n",
      "'title': See No Evil, Cantidad de repeticiones: 2\n",
      "'title': Wolfenstein II: The New Colossus, Cantidad de repeticiones: 2\n",
      "'title': Ultimate Arena, Cantidad de repeticiones: 2\n",
      "'title': The Fog, Cantidad de repeticiones: 2\n",
      "'title': Colony, Cantidad de repeticiones: 2\n",
      "'title': Streamline, Cantidad de repeticiones: 2\n",
      "'title': WARZONE, Cantidad de repeticiones: 2\n",
      "'title': Solitaire, Cantidad de repeticiones: 2\n",
      "'title': Invisible Apartment 2, Cantidad de repeticiones: 2\n",
      "'title': Dark Matter, Cantidad de repeticiones: 2\n",
      "'title': Taxi, Cantidad de repeticiones: 2\n"
     ]
    }
   ],
   "source": [
    "\n",
    "conteo_title = df_steam_games['title'].value_counts()\n",
    "\n",
    "\n",
    "ids_repitentes = conteo_title[conteo_title > 1].index.tolist()\n",
    "\n",
    "\n",
    "for title in ids_repitentes:\n",
    "    print(f\"'title': {title}, Cantidad de repeticiones: {conteo_title[title]}\")\n"
   ]
  },
  {
   "cell_type": "markdown",
   "metadata": {},
   "source": [
    "<h4>Verificando filas con \"id\" duplicados</h4>"
   ]
  },
  {
   "cell_type": "code",
   "execution_count": 27,
   "metadata": {},
   "outputs": [
    {
     "data": {
      "text/plain": [
       "32133"
      ]
     },
     "execution_count": 27,
     "metadata": {},
     "output_type": "execute_result"
    }
   ],
   "source": [
    "df_steam_games['id'].unique().size"
   ]
  },
  {
   "cell_type": "code",
   "execution_count": 28,
   "metadata": {},
   "outputs": [
    {
     "name": "stdout",
     "output_type": "stream",
     "text": [
      "'id': 612880, Cantidad de repeticiones: 2\n"
     ]
    }
   ],
   "source": [
    "conteo_ids = df_steam_games['id'].value_counts()\n",
    "\n",
    "ids_repitentes = conteo_ids[conteo_ids > 1].index.tolist()\n",
    "\n",
    "for id in ids_repitentes:\n",
    "    print(f\"'id': {id}, Cantidad de repeticiones: {conteo_ids[id]}\")\n"
   ]
  },
  {
   "cell_type": "code",
   "execution_count": 29,
   "metadata": {},
   "outputs": [
    {
     "data": {
      "text/html": [
       "<div>\n",
       "<style scoped>\n",
       "    .dataframe tbody tr th:only-of-type {\n",
       "        vertical-align: middle;\n",
       "    }\n",
       "\n",
       "    .dataframe tbody tr th {\n",
       "        vertical-align: top;\n",
       "    }\n",
       "\n",
       "    .dataframe thead th {\n",
       "        text-align: right;\n",
       "    }\n",
       "</style>\n",
       "<table border=\"1\" class=\"dataframe\">\n",
       "  <thead>\n",
       "    <tr style=\"text-align: right;\">\n",
       "      <th></th>\n",
       "      <th>publisher</th>\n",
       "      <th>genres</th>\n",
       "      <th>app_name</th>\n",
       "      <th>title</th>\n",
       "      <th>url</th>\n",
       "      <th>release_date</th>\n",
       "      <th>tags</th>\n",
       "      <th>reviews_url</th>\n",
       "      <th>discount_price</th>\n",
       "      <th>specs</th>\n",
       "      <th>price</th>\n",
       "      <th>early_access</th>\n",
       "      <th>id</th>\n",
       "      <th>metascore</th>\n",
       "      <th>developer</th>\n",
       "    </tr>\n",
       "  </thead>\n",
       "  <tbody>\n",
       "    <tr>\n",
       "      <th>102204</th>\n",
       "      <td>Bethesda Softworks</td>\n",
       "      <td>[Action]</td>\n",
       "      <td>Wolfenstein II: The New Colossus</td>\n",
       "      <td>Wolfenstein II: The New Colossus</td>\n",
       "      <td>http://store.steampowered.com/app/612880/</td>\n",
       "      <td>2017-10-26</td>\n",
       "      <td>[Action, FPS, Gore, Violent, Alternate History...</td>\n",
       "      <td>http://steamcommunity.com/app/612880/reviews/?...</td>\n",
       "      <td>NaN</td>\n",
       "      <td>[Single-player, Steam Achievements, Full contr...</td>\n",
       "      <td>59.99</td>\n",
       "      <td>False</td>\n",
       "      <td>612880</td>\n",
       "      <td>86</td>\n",
       "      <td>Machine Games</td>\n",
       "    </tr>\n",
       "    <tr>\n",
       "      <th>102883</th>\n",
       "      <td>Bethesda Softworks</td>\n",
       "      <td>[Action]</td>\n",
       "      <td>Wolfenstein II: The New Colossus</td>\n",
       "      <td>Wolfenstein II: The New Colossus</td>\n",
       "      <td>http://store.steampowered.com/app/612880/Wolfe...</td>\n",
       "      <td>2017-10-26</td>\n",
       "      <td>[Action, FPS, Gore, Violent, Alternate History...</td>\n",
       "      <td>http://steamcommunity.com/app/612880/reviews/?...</td>\n",
       "      <td>NaN</td>\n",
       "      <td>[Single-player, Steam Achievements, Full contr...</td>\n",
       "      <td>59.99</td>\n",
       "      <td>False</td>\n",
       "      <td>612880</td>\n",
       "      <td>86</td>\n",
       "      <td>Machine Games</td>\n",
       "    </tr>\n",
       "  </tbody>\n",
       "</table>\n",
       "</div>"
      ],
      "text/plain": [
       "                 publisher    genres                          app_name   \n",
       "102204  Bethesda Softworks  [Action]  Wolfenstein II: The New Colossus  \\\n",
       "102883  Bethesda Softworks  [Action]  Wolfenstein II: The New Colossus   \n",
       "\n",
       "                                   title   \n",
       "102204  Wolfenstein II: The New Colossus  \\\n",
       "102883  Wolfenstein II: The New Colossus   \n",
       "\n",
       "                                                      url release_date   \n",
       "102204          http://store.steampowered.com/app/612880/   2017-10-26  \\\n",
       "102883  http://store.steampowered.com/app/612880/Wolfe...   2017-10-26   \n",
       "\n",
       "                                                     tags   \n",
       "102204  [Action, FPS, Gore, Violent, Alternate History...  \\\n",
       "102883  [Action, FPS, Gore, Violent, Alternate History...   \n",
       "\n",
       "                                              reviews_url  discount_price   \n",
       "102204  http://steamcommunity.com/app/612880/reviews/?...             NaN  \\\n",
       "102883  http://steamcommunity.com/app/612880/reviews/?...             NaN   \n",
       "\n",
       "                                                    specs  price early_access   \n",
       "102204  [Single-player, Steam Achievements, Full contr...  59.99        False  \\\n",
       "102883  [Single-player, Steam Achievements, Full contr...  59.99        False   \n",
       "\n",
       "            id metascore      developer  \n",
       "102204  612880        86  Machine Games  \n",
       "102883  612880        86  Machine Games  "
      ]
     },
     "execution_count": 29,
     "metadata": {},
     "output_type": "execute_result"
    }
   ],
   "source": [
    "df_steam_games[df_steam_games['id']=='612880']"
   ]
  },
  {
   "cell_type": "markdown",
   "metadata": {},
   "source": [
    "<h4>Eliminando fila duplicada</h4>"
   ]
  },
  {
   "cell_type": "code",
   "execution_count": 30,
   "metadata": {},
   "outputs": [],
   "source": [
    "indice_a_eliminar = df_steam_games[df_steam_games['id'] == '612880'].index[1]\n",
    "\n",
    "# Eliminar la fila especificando su índice\n",
    "df_steam_games.drop(indice_a_eliminar, inplace=True)"
   ]
  },
  {
   "cell_type": "markdown",
   "metadata": {},
   "source": [
    "<h4>Agregar columna de precios</h4>"
   ]
  },
  {
   "cell_type": "code",
   "execution_count": 31,
   "metadata": {},
   "outputs": [
    {
     "name": "stdout",
     "output_type": "stream",
     "text": [
      "['Free To Play', 'Free to Play', 'Free', 'Free Demo', 'Play for Free!', 'Install Now', 'Play WARMACHINE: Tactics Demo', 'Free Mod', 'Install Theme', 'Third-party', 'Play Now', 'Free HITMAN™ Holiday Pack', 'Play the Demo', 'Starting at $499.00', 'Starting at $449.00', 'Free to Try', 'Free Movie', 'Free to Use']\n"
     ]
    }
   ],
   "source": [
    "df_steam_games.dropna(subset=['price'], inplace=True)\n",
    "\n",
    "unique_values = df_steam_games['price'].unique()\n",
    "\n",
    "unique_strings = [value for value in unique_values if isinstance(value, str)]\n",
    "\n",
    "print(unique_strings)\n"
   ]
  },
  {
   "cell_type": "code",
   "execution_count": 32,
   "metadata": {},
   "outputs": [],
   "source": [
    "def convertir_precio(valor):\n",
    "    try:\n",
    "        return float(valor)\n",
    "    except ValueError:\n",
    "        return 0.0 \n",
    "\n",
    "df_steam_games['price2'] = df_steam_games['price'].apply(convertir_precio)\n",
    "\n"
   ]
  },
  {
   "cell_type": "markdown",
   "metadata": {},
   "source": [
    "<h4>Eliminar nulos de columna \"genres\"</h4>"
   ]
  },
  {
   "cell_type": "code",
   "execution_count": 33,
   "metadata": {},
   "outputs": [],
   "source": [
    "#Eliminar nan y cambiar de tipo a la columma\n",
    "df_steam_games.dropna(subset=['genres'], inplace=True)\n",
    "df_steam_games['genres'] = df_steam_games['genres'].astype('str')\n"
   ]
  },
  {
   "cell_type": "code",
   "execution_count": 34,
   "metadata": {},
   "outputs": [],
   "source": [
    "import numpy as np"
   ]
  },
  {
   "cell_type": "markdown",
   "metadata": {},
   "source": [
    "<h4>Eliminando nulos de columna \"developer\"</h4>"
   ]
  },
  {
   "cell_type": "code",
   "execution_count": 35,
   "metadata": {},
   "outputs": [],
   "source": [
    "df_steam_games.dropna(subset=['developer'], inplace=True)"
   ]
  },
  {
   "cell_type": "markdown",
   "metadata": {},
   "source": [
    "<h4>Obtener año de columna \"release_date\"</h4>"
   ]
  },
  {
   "cell_type": "code",
   "execution_count": 36,
   "metadata": {},
   "outputs": [],
   "source": [
    "df_steam_games['releasedate2'] = df_steam_games['release_date'].apply(pd.to_datetime, errors='coerce')\n",
    "df_steam_games.dropna(subset=['releasedate2'], inplace=True)\n",
    "df_steam_games['Año'] = df_steam_games['releasedate2'].dt.year"
   ]
  },
  {
   "cell_type": "markdown",
   "metadata": {},
   "source": [
    "<h4>Eliminando columnas que no utilizamos</h4>"
   ]
  },
  {
   "cell_type": "code",
   "execution_count": 37,
   "metadata": {},
   "outputs": [
    {
     "data": {
      "text/html": [
       "<div>\n",
       "<style scoped>\n",
       "    .dataframe tbody tr th:only-of-type {\n",
       "        vertical-align: middle;\n",
       "    }\n",
       "\n",
       "    .dataframe tbody tr th {\n",
       "        vertical-align: top;\n",
       "    }\n",
       "\n",
       "    .dataframe thead th {\n",
       "        text-align: right;\n",
       "    }\n",
       "</style>\n",
       "<table border=\"1\" class=\"dataframe\">\n",
       "  <thead>\n",
       "    <tr style=\"text-align: right;\">\n",
       "      <th></th>\n",
       "      <th>publisher</th>\n",
       "      <th>genres</th>\n",
       "      <th>app_name</th>\n",
       "      <th>title</th>\n",
       "      <th>url</th>\n",
       "      <th>specs</th>\n",
       "      <th>id</th>\n",
       "      <th>developer</th>\n",
       "      <th>price2</th>\n",
       "      <th>releasedate2</th>\n",
       "      <th>Año</th>\n",
       "    </tr>\n",
       "  </thead>\n",
       "  <tbody>\n",
       "    <tr>\n",
       "      <th>88310</th>\n",
       "      <td>Kotoshiro</td>\n",
       "      <td>['Action', 'Casual', 'Indie', 'Simulation', 'S...</td>\n",
       "      <td>Lost Summoner Kitty</td>\n",
       "      <td>Lost Summoner Kitty</td>\n",
       "      <td>http://store.steampowered.com/app/761140/Lost_...</td>\n",
       "      <td>[Single-player]</td>\n",
       "      <td>761140</td>\n",
       "      <td>Kotoshiro</td>\n",
       "      <td>4.99</td>\n",
       "      <td>2018-01-04</td>\n",
       "      <td>2018</td>\n",
       "    </tr>\n",
       "    <tr>\n",
       "      <th>88311</th>\n",
       "      <td>Making Fun, Inc.</td>\n",
       "      <td>['Free to Play', 'Indie', 'RPG', 'Strategy']</td>\n",
       "      <td>Ironbound</td>\n",
       "      <td>Ironbound</td>\n",
       "      <td>http://store.steampowered.com/app/643980/Ironb...</td>\n",
       "      <td>[Single-player, Multi-player, Online Multi-Pla...</td>\n",
       "      <td>643980</td>\n",
       "      <td>Secret Level SRL</td>\n",
       "      <td>0.00</td>\n",
       "      <td>2018-01-04</td>\n",
       "      <td>2018</td>\n",
       "    </tr>\n",
       "  </tbody>\n",
       "</table>\n",
       "</div>"
      ],
      "text/plain": [
       "              publisher                                             genres   \n",
       "88310         Kotoshiro  ['Action', 'Casual', 'Indie', 'Simulation', 'S...  \\\n",
       "88311  Making Fun, Inc.       ['Free to Play', 'Indie', 'RPG', 'Strategy']   \n",
       "\n",
       "                  app_name                title   \n",
       "88310  Lost Summoner Kitty  Lost Summoner Kitty  \\\n",
       "88311            Ironbound            Ironbound   \n",
       "\n",
       "                                                     url   \n",
       "88310  http://store.steampowered.com/app/761140/Lost_...  \\\n",
       "88311  http://store.steampowered.com/app/643980/Ironb...   \n",
       "\n",
       "                                                   specs      id   \n",
       "88310                                    [Single-player]  761140  \\\n",
       "88311  [Single-player, Multi-player, Online Multi-Pla...  643980   \n",
       "\n",
       "              developer  price2 releasedate2   Año  \n",
       "88310         Kotoshiro    4.99   2018-01-04  2018  \n",
       "88311  Secret Level SRL    0.00   2018-01-04  2018  "
      ]
     },
     "execution_count": 37,
     "metadata": {},
     "output_type": "execute_result"
    }
   ],
   "source": [
    "df_steam_games.drop(columns=['tags', 'reviews_url', 'discount_price', 'early_access', 'metascore', 'price', 'release_date'], inplace=True)\n",
    "df_steam_games.head(2)"
   ]
  },
  {
   "cell_type": "code",
   "execution_count": 38,
   "metadata": {},
   "outputs": [],
   "source": [
    "df_steam_games.to_csv('df_steam_games_final.csv')"
   ]
  },
  {
   "cell_type": "markdown",
   "metadata": {},
   "source": [
    "<h3>def userdata(User_id)</h3>"
   ]
  },
  {
   "cell_type": "code",
   "execution_count": 39,
   "metadata": {},
   "outputs": [],
   "source": [
    "def userdata(user_id):\n",
    "    df_user_items_id = df_user_items_final[df_user_items_final['user_id']==user_id]['item_id']\n",
    "    respuesta = ''\n",
    "    \n",
    "    items = df_user_items_id.values\n",
    "    precios =  []\n",
    "    for i in items:\n",
    "        precio = df_steam_games[df_steam_games['id']== i]['price2']\n",
    "        if not precio.empty:\n",
    "            precios.append(precio.values[0])\n",
    "\n",
    "    df_user_reviews_id = df_user_reviews_final[df_user_reviews_final['user_id']==user_id]['recommend']\n",
    "\n",
    "    j = 0\n",
    "    for i in df_user_reviews_id.values:\n",
    "        if(i == True):\n",
    "            j = j + 1\n",
    "\n",
    "    recomendacion = j/len(df_user_reviews_id.values)*100\n",
    "\n",
    "    suma = 0\n",
    "\n",
    "    for precio in precios:\n",
    "        suma += precio\n",
    "\n",
    "    item_count = df_user_items_final[df_user_items_final['user_id']=='js41637']['items_count'].iloc[0]\n",
    "\n",
    "    respuesta = {'recomendación:': recomendacion, \n",
    "                'Cantidad de dinero:' : suma, \n",
    "                'Cantidad de items': item_count}\n",
    "    \n",
    "    return respuesta\n",
    "    "
   ]
  },
  {
   "cell_type": "code",
   "execution_count": 40,
   "metadata": {},
   "outputs": [
    {
     "data": {
      "text/plain": [
       "{'recomendación:': 100.0,\n",
       " 'Cantidad de dinero:': 8356.449999999882,\n",
       " 'Cantidad de items': 888}"
      ]
     },
     "execution_count": 40,
     "metadata": {},
     "output_type": "execute_result"
    }
   ],
   "source": [
    "userdata('js41637')"
   ]
  },
  {
   "cell_type": "markdown",
   "metadata": {},
   "source": [
    "<h3>def countreviews(`YYYY-MM-DD`,`YYYY-MM-DD`)</h3>"
   ]
  },
  {
   "cell_type": "code",
   "execution_count": 41,
   "metadata": {},
   "outputs": [],
   "source": [
    "def countreviews(fecha1, fecha2):\n",
    "    df_user_fechas=df_user_reviews_final[['user_id']][df_user_reviews_final['fecha']\n",
    "                                                  .between(fecha1, fecha2)].value_counts()\n",
    "                                                  \n",
    "    primeros_valores = df_user_fechas.index.get_level_values('user_id').tolist()\n",
    "\n",
    "    recomendaciones = []\n",
    "    for i in primeros_valores:\n",
    "        recomendacion = (userdata(i)[list(userdata(i).keys())[0]])\n",
    "        recomendaciones.append(recomendacion)\n",
    "    \n",
    "    respuesta = {'usuario': primeros_valores, 'recomendación':recomendaciones}\n",
    "\n",
    "    df = pd.DataFrame(respuesta)\n",
    "\n",
    "    respuesta = df.to_dict(orient='records')\n",
    "\n",
    "    return respuesta"
   ]
  },
  {
   "cell_type": "code",
   "execution_count": 42,
   "metadata": {},
   "outputs": [
    {
     "data": {
      "text/plain": [
       "[{'usuario': 'GamerFag', 'recomendación': 100.0},\n",
       " {'usuario': '76561197970982479', 'recomendación': 100.0},\n",
       " {'usuario': '76561197974500703', 'recomendación': 90.0},\n",
       " {'usuario': 'FunkMeister1', 'recomendación': 88.88888888888889},\n",
       " {'usuario': 'chidvd', 'recomendación': 100.0},\n",
       " {'usuario': '2xDelorean', 'recomendación': 100.0},\n",
       " {'usuario': '76561197994969639', 'recomendación': 100.0},\n",
       " {'usuario': '76561198040530605', 'recomendación': 100.0}]"
      ]
     },
     "execution_count": 42,
     "metadata": {},
     "output_type": "execute_result"
    }
   ],
   "source": [
    "countreviews('2011-01-01','2012-01-01')"
   ]
  },
  {
   "cell_type": "markdown",
   "metadata": {},
   "source": [
    "<h3>def genre(género:):</h3>\n",
    "<h4>Devuelve el `puesto` en el que se encuentra un género sobre el ranking de los mismos analizado bajo la columna PlayTimeForever.</h4>"
   ]
  },
  {
   "cell_type": "code",
   "execution_count": 43,
   "metadata": {},
   "outputs": [
    {
     "name": "stdout",
     "output_type": "stream",
     "text": [
      "['Racing', 'Design &amp; Illustration', 'Animation &amp; Modeling', 'RPG', 'Strategy', 'Free to Play', 'Sports', 'Indie', 'Education', 'Action', 'Casual', 'Adventure', 'Audio Production', 'Massively Multiplayer', 'Utilities', 'Accounting', 'Video Production', 'Simulation', 'Web Publishing', 'Software Training', 'Photo Editing', 'Early Access']\n"
     ]
    }
   ],
   "source": [
    "# Convertir la columna 'Generos' en una lista de listas\n",
    "generos_lista = df_steam_games['genres'].tolist()\n",
    "# Crear una lista plana de todos los géneros\n",
    "generos = []\n",
    "for lista in generos_lista:\n",
    "    lista = eval(lista)\n",
    "    for gen in lista:\n",
    "        generos.append(gen)\n",
    "\n",
    "generos_unicos = list(set(generos))\n",
    "\n",
    "print(generos_unicos)\n"
   ]
  },
  {
   "cell_type": "code",
   "execution_count": 44,
   "metadata": {},
   "outputs": [],
   "source": [
    "playtimes = []\n",
    "for genero in generos_unicos:\n",
    "    df_steam_games_generos = df_steam_games[df_steam_games['genres']\n",
    "                                                    .apply(lambda generos: genero in generos)]\n",
    "    lista_items = df_steam_games_generos['id'].tolist()\n",
    "\n",
    "    df_user_items_final_items = df_user_items_final[df_user_items_final['item_id'].isin(lista_items)]\n",
    "    df_user_items_final_items\n",
    "\n",
    "    playtime = df_user_items_final_items['playtime_forever'].sum()\n",
    "\n",
    "    playtimes.append(playtime)"
   ]
  },
  {
   "cell_type": "code",
   "execution_count": 45,
   "metadata": {},
   "outputs": [],
   "source": [
    "dicc_genres = {'genero': generos_unicos, 'Time': playtimes}"
   ]
  },
  {
   "cell_type": "code",
   "execution_count": 46,
   "metadata": {},
   "outputs": [],
   "source": [
    "df_generos_times = pd.DataFrame(dicc_genres)\n",
    "\n",
    "df_generos_times = df_generos_times.sort_values('Time', ascending=False)\n",
    "\n",
    "df_generos_times = df_generos_times.reset_index(drop=True)"
   ]
  },
  {
   "cell_type": "code",
   "execution_count": 47,
   "metadata": {},
   "outputs": [
    {
     "data": {
      "text/html": [
       "<div>\n",
       "<style scoped>\n",
       "    .dataframe tbody tr th:only-of-type {\n",
       "        vertical-align: middle;\n",
       "    }\n",
       "\n",
       "    .dataframe tbody tr th {\n",
       "        vertical-align: top;\n",
       "    }\n",
       "\n",
       "    .dataframe thead th {\n",
       "        text-align: right;\n",
       "    }\n",
       "</style>\n",
       "<table border=\"1\" class=\"dataframe\">\n",
       "  <thead>\n",
       "    <tr style=\"text-align: right;\">\n",
       "      <th></th>\n",
       "      <th>genero</th>\n",
       "      <th>Time</th>\n",
       "    </tr>\n",
       "  </thead>\n",
       "  <tbody>\n",
       "    <tr>\n",
       "      <th>0</th>\n",
       "      <td>Action</td>\n",
       "      <td>72525881.0</td>\n",
       "    </tr>\n",
       "    <tr>\n",
       "      <th>1</th>\n",
       "      <td>Indie</td>\n",
       "      <td>35979167.0</td>\n",
       "    </tr>\n",
       "  </tbody>\n",
       "</table>\n",
       "</div>"
      ],
      "text/plain": [
       "   genero        Time\n",
       "0  Action  72525881.0\n",
       "1   Indie  35979167.0"
      ]
     },
     "execution_count": 47,
     "metadata": {},
     "output_type": "execute_result"
    }
   ],
   "source": [
    "df_generos_times.head(2)"
   ]
  },
  {
   "cell_type": "code",
   "execution_count": 48,
   "metadata": {},
   "outputs": [],
   "source": [
    "df_generos_times.index = df_generos_times.index + 1\n",
    "df_generos_times.reset_index(0, inplace=True)\n",
    "df_generos_times.rename(columns={'index': 'Rank'}, inplace=True)\n",
    "df_generos_times.to_csv('rankgenres.csv', index=False)"
   ]
  },
  {
   "cell_type": "code",
   "execution_count": 49,
   "metadata": {},
   "outputs": [],
   "source": [
    "def genre(genero):\n",
    "    df = pd.read_csv('rankgenres.csv')\n",
    "    df = df[df['genero'] == genero]\n",
    "    if(len(df)==0):\n",
    "        rank = 'Genero no existe'\n",
    "    else:\n",
    "        rank = df['Rank'].values[0]\n",
    "\n",
    "    return rank"
   ]
  },
  {
   "cell_type": "code",
   "execution_count": 50,
   "metadata": {},
   "outputs": [
    {
     "data": {
      "text/plain": [
       "1"
      ]
     },
     "execution_count": 50,
     "metadata": {},
     "output_type": "execute_result"
    }
   ],
   "source": [
    "genre('Action')"
   ]
  },
  {
   "cell_type": "markdown",
   "metadata": {},
   "source": [
    "<h3>def userforgenre(género):\n",
    "</h3>\n",
    "<h4>`Top 5` de usuarios con más horas de juego en el género dado, con su URL (del user) y user_id.</h4>"
   ]
  },
  {
   "cell_type": "code",
   "execution_count": 51,
   "metadata": {},
   "outputs": [],
   "source": [
    "def userforgenre(genero):\n",
    "    df_steam_games_generos = df_steam_games[df_steam_games['genres']\n",
    "                                                      .apply(lambda generos: genero in generos)]\n",
    "\n",
    "    juegos = df_steam_games_generos['id'].values\n",
    "    df_user_items_final_genres = df_user_items_final[df_user_items_final['item_id'].isin(juegos)]\n",
    "\n",
    "    df_top_users = df_user_items_final_genres[['user_id','user_url', 'playtime_forever']].groupby(['user_id', 'user_url']).sum('playtime_forever')\n",
    "\n",
    "    df_top_users_reset = df_top_users.reset_index().head(5)\n",
    "\n",
    "    respuesta = df_top_users_reset.to_dict(orient='records')\n",
    "    \n",
    "    return respuesta"
   ]
  },
  {
   "cell_type": "code",
   "execution_count": 52,
   "metadata": {},
   "outputs": [
    {
     "data": {
      "text/plain": [
       "[{'user_id': '-AnimeIsMyThing-',\n",
       "  'user_url': 'http://steamcommunity.com/id/-AnimeIsMyThing-',\n",
       "  'playtime_forever': 166425.0},\n",
       " {'user_id': '-Azsael-',\n",
       "  'user_url': 'http://steamcommunity.com/id/-Azsael-',\n",
       "  'playtime_forever': 154523.0},\n",
       " {'user_id': '-GM-Dragon',\n",
       "  'user_url': 'http://steamcommunity.com/id/-GM-Dragon',\n",
       "  'playtime_forever': 24000.0},\n",
       " {'user_id': '1122305938',\n",
       "  'user_url': 'http://steamcommunity.com/id/1122305938',\n",
       "  'playtime_forever': 53144.0},\n",
       " {'user_id': '1234865654',\n",
       "  'user_url': 'http://steamcommunity.com/id/1234865654',\n",
       "  'playtime_forever': 30316.0}]"
      ]
     },
     "execution_count": 52,
     "metadata": {},
     "output_type": "execute_result"
    }
   ],
   "source": [
    "userforgenre('Action')"
   ]
  },
  {
   "cell_type": "markdown",
   "metadata": {},
   "source": [
    "<h3>def developer(desarrollador:)</h3>\n",
    "<h4>Cantidad` de items y `porcentaje` de contenido Free por año según empresa desarrolladora.\n",
    "Ejemplo de salida</h4>"
   ]
  },
  {
   "cell_type": "code",
   "execution_count": 53,
   "metadata": {},
   "outputs": [
    {
     "data": {
      "text/html": [
       "<div>\n",
       "<style scoped>\n",
       "    .dataframe tbody tr th:only-of-type {\n",
       "        vertical-align: middle;\n",
       "    }\n",
       "\n",
       "    .dataframe tbody tr th {\n",
       "        vertical-align: top;\n",
       "    }\n",
       "\n",
       "    .dataframe thead th {\n",
       "        text-align: right;\n",
       "    }\n",
       "</style>\n",
       "<table border=\"1\" class=\"dataframe\">\n",
       "  <thead>\n",
       "    <tr style=\"text-align: right;\">\n",
       "      <th></th>\n",
       "      <th>developer</th>\n",
       "      <th>Año</th>\n",
       "      <th>total</th>\n",
       "      <th>total gratis</th>\n",
       "    </tr>\n",
       "  </thead>\n",
       "  <tbody>\n",
       "    <tr>\n",
       "      <th>0</th>\n",
       "      <td>+7 Software</td>\n",
       "      <td>2016</td>\n",
       "      <td>1</td>\n",
       "      <td>0.0</td>\n",
       "    </tr>\n",
       "    <tr>\n",
       "      <th>1</th>\n",
       "      <td>+Mpact Games, LLC.</td>\n",
       "      <td>2017</td>\n",
       "      <td>1</td>\n",
       "      <td>0.0</td>\n",
       "    </tr>\n",
       "    <tr>\n",
       "      <th>2</th>\n",
       "      <td>.M.Y.W.</td>\n",
       "      <td>2016</td>\n",
       "      <td>1</td>\n",
       "      <td>0.0</td>\n",
       "    </tr>\n",
       "    <tr>\n",
       "      <th>3</th>\n",
       "      <td>.ez Games</td>\n",
       "      <td>2017</td>\n",
       "      <td>1</td>\n",
       "      <td>0.0</td>\n",
       "    </tr>\n",
       "    <tr>\n",
       "      <th>4</th>\n",
       "      <td>07th Expansion</td>\n",
       "      <td>2015</td>\n",
       "      <td>2</td>\n",
       "      <td>0.0</td>\n",
       "    </tr>\n",
       "    <tr>\n",
       "      <th>5</th>\n",
       "      <td>07th Expansion</td>\n",
       "      <td>2016</td>\n",
       "      <td>3</td>\n",
       "      <td>0.0</td>\n",
       "    </tr>\n",
       "    <tr>\n",
       "      <th>6</th>\n",
       "      <td>07th Expansion</td>\n",
       "      <td>2017</td>\n",
       "      <td>3</td>\n",
       "      <td>0.0</td>\n",
       "    </tr>\n",
       "    <tr>\n",
       "      <th>7</th>\n",
       "      <td>08 Games</td>\n",
       "      <td>2016</td>\n",
       "      <td>1</td>\n",
       "      <td>0.0</td>\n",
       "    </tr>\n",
       "    <tr>\n",
       "      <th>8</th>\n",
       "      <td>100 Plus Games llc</td>\n",
       "      <td>2017</td>\n",
       "      <td>1</td>\n",
       "      <td>0.0</td>\n",
       "    </tr>\n",
       "    <tr>\n",
       "      <th>9</th>\n",
       "      <td>100 Stones Interactive</td>\n",
       "      <td>2016</td>\n",
       "      <td>1</td>\n",
       "      <td>0.0</td>\n",
       "    </tr>\n",
       "    <tr>\n",
       "      <th>10</th>\n",
       "      <td>100 Stones Interactive</td>\n",
       "      <td>2017</td>\n",
       "      <td>3</td>\n",
       "      <td>0.0</td>\n",
       "    </tr>\n",
       "    <tr>\n",
       "      <th>11</th>\n",
       "      <td>10101 Software</td>\n",
       "      <td>2016</td>\n",
       "      <td>1</td>\n",
       "      <td>0.0</td>\n",
       "    </tr>\n",
       "    <tr>\n",
       "      <th>12</th>\n",
       "      <td>10ft Games</td>\n",
       "      <td>2017</td>\n",
       "      <td>1</td>\n",
       "      <td>0.0</td>\n",
       "    </tr>\n",
       "    <tr>\n",
       "      <th>13</th>\n",
       "      <td>10kbit Games</td>\n",
       "      <td>2017</td>\n",
       "      <td>3</td>\n",
       "      <td>0.0</td>\n",
       "    </tr>\n",
       "    <tr>\n",
       "      <th>14</th>\n",
       "      <td>10ravens s.r.o.</td>\n",
       "      <td>2017</td>\n",
       "      <td>1</td>\n",
       "      <td>0.0</td>\n",
       "    </tr>\n",
       "    <tr>\n",
       "      <th>15</th>\n",
       "      <td>10th Art Studio,Adventure Productions</td>\n",
       "      <td>2014</td>\n",
       "      <td>1</td>\n",
       "      <td>0.0</td>\n",
       "    </tr>\n",
       "    <tr>\n",
       "      <th>16</th>\n",
       "      <td>10tons Ltd</td>\n",
       "      <td>2012</td>\n",
       "      <td>1</td>\n",
       "      <td>0.0</td>\n",
       "    </tr>\n",
       "    <tr>\n",
       "      <th>17</th>\n",
       "      <td>10tons Ltd</td>\n",
       "      <td>2014</td>\n",
       "      <td>2</td>\n",
       "      <td>0.0</td>\n",
       "    </tr>\n",
       "    <tr>\n",
       "      <th>18</th>\n",
       "      <td>10tons Ltd</td>\n",
       "      <td>2015</td>\n",
       "      <td>3</td>\n",
       "      <td>0.0</td>\n",
       "    </tr>\n",
       "    <tr>\n",
       "      <th>19</th>\n",
       "      <td>10tons Ltd</td>\n",
       "      <td>2016</td>\n",
       "      <td>4</td>\n",
       "      <td>0.0</td>\n",
       "    </tr>\n",
       "  </tbody>\n",
       "</table>\n",
       "</div>"
      ],
      "text/plain": [
       "                                developer   Año  total  total gratis\n",
       "0                             +7 Software  2016      1           0.0\n",
       "1                      +Mpact Games, LLC.  2017      1           0.0\n",
       "2                                 .M.Y.W.  2016      1           0.0\n",
       "3                               .ez Games  2017      1           0.0\n",
       "4                          07th Expansion  2015      2           0.0\n",
       "5                          07th Expansion  2016      3           0.0\n",
       "6                          07th Expansion  2017      3           0.0\n",
       "7                                08 Games  2016      1           0.0\n",
       "8                      100 Plus Games llc  2017      1           0.0\n",
       "9                  100 Stones Interactive  2016      1           0.0\n",
       "10                 100 Stones Interactive  2017      3           0.0\n",
       "11                         10101 Software  2016      1           0.0\n",
       "12                             10ft Games  2017      1           0.0\n",
       "13                           10kbit Games  2017      3           0.0\n",
       "14                        10ravens s.r.o.  2017      1           0.0\n",
       "15  10th Art Studio,Adventure Productions  2014      1           0.0\n",
       "16                             10tons Ltd  2012      1           0.0\n",
       "17                             10tons Ltd  2014      2           0.0\n",
       "18                             10tons Ltd  2015      3           0.0\n",
       "19                             10tons Ltd  2016      4           0.0"
      ]
     },
     "execution_count": 53,
     "metadata": {},
     "output_type": "execute_result"
    }
   ],
   "source": [
    "# Supongamos que tienes un DataFrame llamado df con las columnas 'developer', 'price2', y 'año'\n",
    "\n",
    "# Filtrar los juegos con precio igual a 0.0 y agrupar por 'developer' y 'año'\n",
    "juegos_gratis = df_steam_games[df_steam_games['price2'] == 0.0].groupby(['developer', 'Año']).size().reset_index(name='total gratis')\n",
    "\n",
    "# Agrupar todos los juegos por 'developer' y 'año' y contar el total\n",
    "todos_los_juegos = df_steam_games.groupby(['developer', 'Año']).size().reset_index(name='total')\n",
    "\n",
    "# Combinar ambos DataFrames en uno solo\n",
    "developer_año = pd.merge(todos_los_juegos, juegos_gratis, on=['developer', 'Año'], how='left').fillna(0)\n",
    "\n",
    "developer_año.head(20)\n"
   ]
  },
  {
   "cell_type": "code",
   "execution_count": 54,
   "metadata": {},
   "outputs": [],
   "source": [
    "def contenidoFree(fila):\n",
    "    if(fila['total gratis']==0.0):\n",
    "        return 0.0\n",
    "    else:\n",
    "        return round((fila['total gratis']/fila['total'])*100,2)"
   ]
  },
  {
   "cell_type": "code",
   "execution_count": 55,
   "metadata": {},
   "outputs": [],
   "source": [
    "developer_año['Contenido Free'] = developer_año.apply(contenidoFree, axis=1)"
   ]
  },
  {
   "cell_type": "code",
   "execution_count": 56,
   "metadata": {},
   "outputs": [
    {
     "data": {
      "text/html": [
       "<div>\n",
       "<style scoped>\n",
       "    .dataframe tbody tr th:only-of-type {\n",
       "        vertical-align: middle;\n",
       "    }\n",
       "\n",
       "    .dataframe tbody tr th {\n",
       "        vertical-align: top;\n",
       "    }\n",
       "\n",
       "    .dataframe thead th {\n",
       "        text-align: right;\n",
       "    }\n",
       "</style>\n",
       "<table border=\"1\" class=\"dataframe\">\n",
       "  <thead>\n",
       "    <tr style=\"text-align: right;\">\n",
       "      <th></th>\n",
       "      <th>developer</th>\n",
       "      <th>Año</th>\n",
       "      <th>total</th>\n",
       "      <th>total gratis</th>\n",
       "      <th>Contenido Free</th>\n",
       "    </tr>\n",
       "  </thead>\n",
       "  <tbody>\n",
       "    <tr>\n",
       "      <th>0</th>\n",
       "      <td>+7 Software</td>\n",
       "      <td>2016</td>\n",
       "      <td>1</td>\n",
       "      <td>0.0</td>\n",
       "      <td>0.0</td>\n",
       "    </tr>\n",
       "    <tr>\n",
       "      <th>1</th>\n",
       "      <td>+Mpact Games, LLC.</td>\n",
       "      <td>2017</td>\n",
       "      <td>1</td>\n",
       "      <td>0.0</td>\n",
       "      <td>0.0</td>\n",
       "    </tr>\n",
       "    <tr>\n",
       "      <th>2</th>\n",
       "      <td>.M.Y.W.</td>\n",
       "      <td>2016</td>\n",
       "      <td>1</td>\n",
       "      <td>0.0</td>\n",
       "      <td>0.0</td>\n",
       "    </tr>\n",
       "    <tr>\n",
       "      <th>3</th>\n",
       "      <td>.ez Games</td>\n",
       "      <td>2017</td>\n",
       "      <td>1</td>\n",
       "      <td>0.0</td>\n",
       "      <td>0.0</td>\n",
       "    </tr>\n",
       "    <tr>\n",
       "      <th>4</th>\n",
       "      <td>07th Expansion</td>\n",
       "      <td>2015</td>\n",
       "      <td>2</td>\n",
       "      <td>0.0</td>\n",
       "      <td>0.0</td>\n",
       "    </tr>\n",
       "  </tbody>\n",
       "</table>\n",
       "</div>"
      ],
      "text/plain": [
       "            developer   Año  total  total gratis  Contenido Free\n",
       "0         +7 Software  2016      1           0.0             0.0\n",
       "1  +Mpact Games, LLC.  2017      1           0.0             0.0\n",
       "2             .M.Y.W.  2016      1           0.0             0.0\n",
       "3           .ez Games  2017      1           0.0             0.0\n",
       "4      07th Expansion  2015      2           0.0             0.0"
      ]
     },
     "execution_count": 56,
     "metadata": {},
     "output_type": "execute_result"
    }
   ],
   "source": [
    "developer_año.head(5)"
   ]
  },
  {
   "cell_type": "code",
   "execution_count": 57,
   "metadata": {},
   "outputs": [],
   "source": [
    "developer_año.to_csv('developerByAño.csv', index=False)"
   ]
  },
  {
   "cell_type": "code",
   "execution_count": 58,
   "metadata": {},
   "outputs": [],
   "source": [
    "def developer(developer):\n",
    "    df_developer = pd.read_csv('developerByAño.csv')\n",
    "    df_developer = df_developer[df_developer['developer']==developer]\n",
    "\n",
    "    if(len(df_developer)==0):\n",
    "        respuesta = 'No hay developer con ese nombre'\n",
    "    else:\n",
    "        respuesta = df_developer.to_dict(orient='records')\n",
    "    return respuesta"
   ]
  },
  {
   "cell_type": "code",
   "execution_count": 59,
   "metadata": {},
   "outputs": [
    {
     "data": {
      "text/plain": [
       "[{'developer': '100 Stones Interactive',\n",
       "  'Año': 2016,\n",
       "  'total': 1,\n",
       "  'total gratis': 0.0,\n",
       "  'Contenido Free': 0.0},\n",
       " {'developer': '100 Stones Interactive',\n",
       "  'Año': 2017,\n",
       "  'total': 3,\n",
       "  'total gratis': 0.0,\n",
       "  'Contenido Free': 0.0}]"
      ]
     },
     "execution_count": 59,
     "metadata": {},
     "output_type": "execute_result"
    }
   ],
   "source": [
    "developer('100 Stones Interactive')"
   ]
  }
 ],
 "metadata": {
  "kernelspec": {
   "display_name": "Python 3",
   "language": "python",
   "name": "python3"
  },
  "language_info": {
   "codemirror_mode": {
    "name": "ipython",
    "version": 3
   },
   "file_extension": ".py",
   "mimetype": "text/x-python",
   "name": "python",
   "nbconvert_exporter": "python",
   "pygments_lexer": "ipython3",
   "version": "3.11.2"
  },
  "orig_nbformat": 4
 },
 "nbformat": 4,
 "nbformat_minor": 2
}
