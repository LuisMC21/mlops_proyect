{
 "cells": [
  {
   "cell_type": "code",
   "execution_count": 1,
   "metadata": {},
   "outputs": [],
   "source": [
    "import pandas as pd\n",
    "from sklearn.feature_extraction.text import TfidfVectorizer\n",
    "from sklearn.metrics.pairwise import cosine_similarity"
   ]
  },
  {
   "cell_type": "markdown",
   "metadata": {},
   "source": [
    "<h4>Leemos el archivo y seleccionamos las columnas</h4>"
   ]
  },
  {
   "cell_type": "code",
   "execution_count": 14,
   "metadata": {},
   "outputs": [],
   "source": [
    "df_steam_games = pd.read_csv('df_steam_games_final.csv')\n",
    "df_steam_games.head(5)\n",
    "columns = ['id','title','genres']"
   ]
  },
  {
   "cell_type": "code",
   "execution_count": 20,
   "metadata": {},
   "outputs": [],
   "source": [
    "df_steam = df_steam_games.dropna(subset=columns)[columns]\n",
    "df_steam['genres'] = df_steam['genres'].apply(eval)\n",
    "df_steam['id'] = df_steam['id'].astype(int)"
   ]
  },
  {
   "cell_type": "markdown",
   "metadata": {},
   "source": [
    "<h4>Elegimos una muestra del dataframe</h4>"
   ]
  },
  {
   "cell_type": "code",
   "execution_count": 21,
   "metadata": {},
   "outputs": [],
   "source": [
    "tamano_muestra = 3000\n",
    "# Realiza el muestreo aleatorio\n",
    "df_steam_muestra= df_steam.sample(n=tamano_muestra, random_state=42)\n",
    "df_steam_muestra = df_steam_muestra.reset_index(drop=True)\n"
   ]
  },
  {
   "cell_type": "code",
   "execution_count": 22,
   "metadata": {},
   "outputs": [
    {
     "data": {
      "text/html": [
       "<div>\n",
       "<style scoped>\n",
       "    .dataframe tbody tr th:only-of-type {\n",
       "        vertical-align: middle;\n",
       "    }\n",
       "\n",
       "    .dataframe tbody tr th {\n",
       "        vertical-align: top;\n",
       "    }\n",
       "\n",
       "    .dataframe thead th {\n",
       "        text-align: right;\n",
       "    }\n",
       "</style>\n",
       "<table border=\"1\" class=\"dataframe\">\n",
       "  <thead>\n",
       "    <tr style=\"text-align: right;\">\n",
       "      <th></th>\n",
       "      <th>id</th>\n",
       "      <th>title</th>\n",
       "      <th>genres</th>\n",
       "    </tr>\n",
       "  </thead>\n",
       "  <tbody>\n",
       "    <tr>\n",
       "      <th>0</th>\n",
       "      <td>707850</td>\n",
       "      <td>Jigsaw Puzzles</td>\n",
       "      <td>[Adventure, Casual, Indie, Strategy]</td>\n",
       "    </tr>\n",
       "    <tr>\n",
       "      <th>1</th>\n",
       "      <td>331520</td>\n",
       "      <td>Oblivious Garden ~Carmina Burana Soundtrack</td>\n",
       "      <td>[Casual, Indie]</td>\n",
       "    </tr>\n",
       "    <tr>\n",
       "      <th>2</th>\n",
       "      <td>567860</td>\n",
       "      <td>Passage 4</td>\n",
       "      <td>[Casual, Indie]</td>\n",
       "    </tr>\n",
       "    <tr>\n",
       "      <th>3</th>\n",
       "      <td>343599</td>\n",
       "      <td>Call of Duty®: Advanced Warfare - Jackpot Pers...</td>\n",
       "      <td>[Action]</td>\n",
       "    </tr>\n",
       "    <tr>\n",
       "      <th>4</th>\n",
       "      <td>322540</td>\n",
       "      <td>Galactic Inheritors</td>\n",
       "      <td>[Indie, Strategy]</td>\n",
       "    </tr>\n",
       "    <tr>\n",
       "      <th>...</th>\n",
       "      <td>...</td>\n",
       "      <td>...</td>\n",
       "      <td>...</td>\n",
       "    </tr>\n",
       "    <tr>\n",
       "      <th>2995</th>\n",
       "      <td>370810</td>\n",
       "      <td>Universal Combat - The Lyrius Conflict</td>\n",
       "      <td>[Action, Indie, Simulation, Strategy]</td>\n",
       "    </tr>\n",
       "    <tr>\n",
       "      <th>2996</th>\n",
       "      <td>652990</td>\n",
       "      <td>Eternal Maze</td>\n",
       "      <td>[Adventure, Casual, Indie, RPG, Strategy]</td>\n",
       "    </tr>\n",
       "    <tr>\n",
       "      <th>2997</th>\n",
       "      <td>572020</td>\n",
       "      <td>Darwin's Demons</td>\n",
       "      <td>[Action, Casual, Indie, Simulation]</td>\n",
       "    </tr>\n",
       "    <tr>\n",
       "      <th>2998</th>\n",
       "      <td>358140</td>\n",
       "      <td>Fun Theme Set</td>\n",
       "      <td>[Action]</td>\n",
       "    </tr>\n",
       "    <tr>\n",
       "      <th>2999</th>\n",
       "      <td>31850</td>\n",
       "      <td>Nancy Drew®: Ghost Dogs of Moon Lake</td>\n",
       "      <td>[Adventure]</td>\n",
       "    </tr>\n",
       "  </tbody>\n",
       "</table>\n",
       "<p>3000 rows × 3 columns</p>\n",
       "</div>"
      ],
      "text/plain": [
       "          id                                              title   \n",
       "0     707850                                     Jigsaw Puzzles  \\\n",
       "1     331520        Oblivious Garden ~Carmina Burana Soundtrack   \n",
       "2     567860                                          Passage 4   \n",
       "3     343599  Call of Duty®: Advanced Warfare - Jackpot Pers...   \n",
       "4     322540                                Galactic Inheritors   \n",
       "...      ...                                                ...   \n",
       "2995  370810             Universal Combat - The Lyrius Conflict   \n",
       "2996  652990                                       Eternal Maze   \n",
       "2997  572020                                    Darwin's Demons   \n",
       "2998  358140                                      Fun Theme Set   \n",
       "2999   31850               Nancy Drew®: Ghost Dogs of Moon Lake   \n",
       "\n",
       "                                         genres  \n",
       "0          [Adventure, Casual, Indie, Strategy]  \n",
       "1                               [Casual, Indie]  \n",
       "2                               [Casual, Indie]  \n",
       "3                                      [Action]  \n",
       "4                             [Indie, Strategy]  \n",
       "...                                         ...  \n",
       "2995      [Action, Indie, Simulation, Strategy]  \n",
       "2996  [Adventure, Casual, Indie, RPG, Strategy]  \n",
       "2997        [Action, Casual, Indie, Simulation]  \n",
       "2998                                   [Action]  \n",
       "2999                                [Adventure]  \n",
       "\n",
       "[3000 rows x 3 columns]"
      ]
     },
     "execution_count": 22,
     "metadata": {},
     "output_type": "execute_result"
    }
   ],
   "source": [
    "df_steam_muestra"
   ]
  },
  {
   "cell_type": "markdown",
   "metadata": {},
   "source": [
    "<h4>Matriz TF-IDF</h4>"
   ]
  },
  {
   "cell_type": "code",
   "execution_count": 6,
   "metadata": {},
   "outputs": [],
   "source": [
    "tfidf_vectorizer = TfidfVectorizer()\n",
    "genero_matrix = tfidf_vectorizer.fit_transform(df_steam_muestra['genres'].apply(lambda x: ' '.join(x)))"
   ]
  },
  {
   "cell_type": "code",
   "execution_count": 7,
   "metadata": {},
   "outputs": [
    {
     "name": "stdout",
     "output_type": "stream",
     "text": [
      "(3000, 32)\n"
     ]
    }
   ],
   "source": [
    "print(genero_matrix.shape)"
   ]
  },
  {
   "cell_type": "code",
   "execution_count": 8,
   "metadata": {},
   "outputs": [
    {
     "name": "stdout",
     "output_type": "stream",
     "text": [
      "  (0, 26)\t0.5705611690054956\n",
      "  (0, 13)\t0.37008522902180746\n",
      "  (0, 6)\t0.5178866406550827\n",
      "  (0, 2)\t0.5189318867770143\n",
      "  (1, 13)\t0.5814110733891201\n",
      "  (1, 6)\t0.8136099579900132\n",
      "  (2, 13)\t0.5814110733891201\n",
      "  (2, 6)\t0.8136099579900132\n",
      "  (3, 1)\t1.0\n",
      "  (4, 26)\t0.8389669947798211\n",
      "  (4, 13)\t0.5441823055466942\n",
      "  (5, 26)\t1.0\n",
      "  (6, 1)\t0.7765295747563586\n",
      "  (6, 13)\t0.6300808039677998\n",
      "  (7, 1)\t0.7765295747563586\n",
      "  (7, 13)\t0.6300808039677998\n",
      "  (8, 22)\t1.0\n",
      "  (9, 26)\t1.0\n",
      "  (10, 1)\t0.5824550014434435\n",
      "  (10, 13)\t0.4726075187795617\n",
      "  (10, 6)\t0.6613533885046212\n",
      "  (11, 13)\t0.5806350629673359\n",
      "  (11, 2)\t0.8141639415086607\n",
      "  (12, 23)\t0.6525850281006058\n",
      "  (12, 26)\t0.6356982971281704\n",
      "  :\t:\n",
      "  (2990, 1)\t1.0\n",
      "  (2991, 21)\t1.0\n",
      "  (2992, 22)\t0.6985024537791091\n",
      "  (2992, 13)\t0.41550689832394844\n",
      "  (2992, 2)\t0.582621952478428\n",
      "  (2993, 13)\t0.5814110733891201\n",
      "  (2993, 6)\t0.8136099579900132\n",
      "  (2994, 22)\t0.674982593462257\n",
      "  (2994, 26)\t0.6190180819497341\n",
      "  (2994, 13)\t0.4015160180394273\n",
      "  (2995, 23)\t0.5817752509216527\n",
      "  (2995, 1)\t0.45303366642834264\n",
      "  (2995, 26)\t0.566720841571611\n",
      "  (2995, 13)\t0.36759426304814125\n",
      "  (2996, 22)\t0.5282544725905884\n",
      "  (2996, 26)\t0.4844555601457583\n",
      "  (2996, 13)\t0.31423422529776834\n",
      "  (2996, 6)\t0.4397303500830191\n",
      "  (2996, 2)\t0.44061785404052317\n",
      "  (2997, 23)\t0.598961741628382\n",
      "  (2997, 1)\t0.46641694267732614\n",
      "  (2997, 13)\t0.3784535345206134\n",
      "  (2997, 6)\t0.5295970070325982\n",
      "  (2998, 1)\t1.0\n",
      "  (2999, 2)\t1.0\n"
     ]
    }
   ],
   "source": [
    "print(genero_matrix)"
   ]
  },
  {
   "cell_type": "code",
   "execution_count": 9,
   "metadata": {},
   "outputs": [],
   "source": [
    "cosine_sim = cosine_similarity(genero_matrix, genero_matrix)"
   ]
  },
  {
   "cell_type": "code",
   "execution_count": 10,
   "metadata": {},
   "outputs": [
    {
     "name": "stdout",
     "output_type": "stream",
     "text": [
      "[[1.         0.63652938 0.63652938 ... 0.41433128 0.         0.51893189]\n",
      " [0.63652938 1.         1.         ... 0.65092247 0.         0.        ]\n",
      " [0.63652938 1.         1.         ... 0.65092247 0.         0.        ]\n",
      " ...\n",
      " [0.41433128 0.65092247 0.65092247 ... 1.         0.46641694 0.        ]\n",
      " [0.         0.         0.         ... 0.46641694 1.         0.        ]\n",
      " [0.51893189 0.         0.         ... 0.         0.         1.        ]]\n"
     ]
    }
   ],
   "source": [
    "print(cosine_sim)"
   ]
  },
  {
   "cell_type": "code",
   "execution_count": 11,
   "metadata": {},
   "outputs": [],
   "source": [
    "def get_recommendations(id, cosine_sim=cosine_sim):\n",
    "    idx = df_steam_muestra[df_steam_muestra['id'] == id].index[0]\n",
    "    sim_scores = list(enumerate(cosine_sim[idx]))\n",
    "    sim_scores = sorted(sim_scores, key=lambda x: x[1], reverse=True)\n",
    "    top_indices = [i for i, _ in sim_scores[1:6]]\n",
    "    \n",
    "    return df_steam_muestra['title'].iloc[top_indices]\n"
   ]
  },
  {
   "cell_type": "code",
   "execution_count": 23,
   "metadata": {},
   "outputs": [],
   "source": [
    "dicc = {'Juegos:' : get_recommendations(370810).values.tolist()}"
   ]
  },
  {
   "cell_type": "code",
   "execution_count": 24,
   "metadata": {},
   "outputs": [
    {
     "data": {
      "text/plain": [
       "{'Juegos:': ['Zulu Response',\n",
       "  'Universal Combat - The Lyrius Conflict',\n",
       "  'Arma 2: Private Military Company',\n",
       "  'Arma 3 DLC Bundle 1',\n",
       "  'Arma 3 Malden']}"
      ]
     },
     "execution_count": 24,
     "metadata": {},
     "output_type": "execute_result"
    }
   ],
   "source": [
    "dicc"
   ]
  },
  {
   "cell_type": "code",
   "execution_count": 25,
   "metadata": {},
   "outputs": [
    {
     "data": {
      "text/html": [
       "<div>\n",
       "<style scoped>\n",
       "    .dataframe tbody tr th:only-of-type {\n",
       "        vertical-align: middle;\n",
       "    }\n",
       "\n",
       "    .dataframe tbody tr th {\n",
       "        vertical-align: top;\n",
       "    }\n",
       "\n",
       "    .dataframe thead th {\n",
       "        text-align: right;\n",
       "    }\n",
       "</style>\n",
       "<table border=\"1\" class=\"dataframe\">\n",
       "  <thead>\n",
       "    <tr style=\"text-align: right;\">\n",
       "      <th></th>\n",
       "      <th>id</th>\n",
       "      <th>title</th>\n",
       "      <th>genres</th>\n",
       "    </tr>\n",
       "  </thead>\n",
       "  <tbody>\n",
       "    <tr>\n",
       "      <th>2544</th>\n",
       "      <td>401250</td>\n",
       "      <td>Zulu Response</td>\n",
       "      <td>[Action, Indie, Simulation, Strategy]</td>\n",
       "    </tr>\n",
       "  </tbody>\n",
       "</table>\n",
       "</div>"
      ],
      "text/plain": [
       "          id          title                                 genres\n",
       "2544  401250  Zulu Response  [Action, Indie, Simulation, Strategy]"
      ]
     },
     "execution_count": 25,
     "metadata": {},
     "output_type": "execute_result"
    }
   ],
   "source": [
    "df_steam_muestra[df_steam_muestra['title']=='Zulu Response']"
   ]
  },
  {
   "cell_type": "code",
   "execution_count": null,
   "metadata": {},
   "outputs": [
    {
     "data": {
      "text/plain": [
       "title                                       The Vagrant\n",
       "genres    [Action, Adventure, Indie, RPG, Early Access]\n",
       "Name: 75, dtype: object"
      ]
     },
     "execution_count": 14,
     "metadata": {},
     "output_type": "execute_result"
    }
   ],
   "source": [
    "df_steam_muestra.iloc[75]"
   ]
  }
 ],
 "metadata": {
  "kernelspec": {
   "display_name": "Python 3",
   "language": "python",
   "name": "python3"
  },
  "language_info": {
   "codemirror_mode": {
    "name": "ipython",
    "version": 3
   },
   "file_extension": ".py",
   "mimetype": "text/x-python",
   "name": "python",
   "nbconvert_exporter": "python",
   "pygments_lexer": "ipython3",
   "version": "3.11.2"
  },
  "orig_nbformat": 4
 },
 "nbformat": 4,
 "nbformat_minor": 2
}
